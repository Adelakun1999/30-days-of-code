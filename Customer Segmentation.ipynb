{
 "cells": [
  {
   "cell_type": "code",
   "execution_count": 1,
   "id": "8b5798bb",
   "metadata": {},
   "outputs": [],
   "source": [
    "import numpy as np\n",
    "import pandas as pd\n",
    "import matplotlib.pyplot as plt\n",
    "import seaborn as sns"
   ]
  },
  {
   "cell_type": "code",
   "execution_count": 2,
   "id": "2f9107e5",
   "metadata": {},
   "outputs": [],
   "source": [
    "sns.set_style('darkgrid')"
   ]
  },
  {
   "cell_type": "code",
   "execution_count": 3,
   "id": "551df332",
   "metadata": {},
   "outputs": [],
   "source": [
    "df=pd.read_csv('Mall_Customers.csv')"
   ]
  },
  {
   "cell_type": "code",
   "execution_count": 4,
   "id": "d61eac45",
   "metadata": {},
   "outputs": [
    {
     "data": {
      "text/html": [
       "<div>\n",
       "<style scoped>\n",
       "    .dataframe tbody tr th:only-of-type {\n",
       "        vertical-align: middle;\n",
       "    }\n",
       "\n",
       "    .dataframe tbody tr th {\n",
       "        vertical-align: top;\n",
       "    }\n",
       "\n",
       "    .dataframe thead th {\n",
       "        text-align: right;\n",
       "    }\n",
       "</style>\n",
       "<table border=\"1\" class=\"dataframe\">\n",
       "  <thead>\n",
       "    <tr style=\"text-align: right;\">\n",
       "      <th></th>\n",
       "      <th>CustomerID</th>\n",
       "      <th>Genre</th>\n",
       "      <th>Age</th>\n",
       "      <th>Annual Income (k$)</th>\n",
       "      <th>Spending Score (1-100)</th>\n",
       "    </tr>\n",
       "  </thead>\n",
       "  <tbody>\n",
       "    <tr>\n",
       "      <th>0</th>\n",
       "      <td>1</td>\n",
       "      <td>Male</td>\n",
       "      <td>19</td>\n",
       "      <td>15</td>\n",
       "      <td>39</td>\n",
       "    </tr>\n",
       "    <tr>\n",
       "      <th>1</th>\n",
       "      <td>2</td>\n",
       "      <td>Male</td>\n",
       "      <td>21</td>\n",
       "      <td>15</td>\n",
       "      <td>81</td>\n",
       "    </tr>\n",
       "    <tr>\n",
       "      <th>2</th>\n",
       "      <td>3</td>\n",
       "      <td>Female</td>\n",
       "      <td>20</td>\n",
       "      <td>16</td>\n",
       "      <td>6</td>\n",
       "    </tr>\n",
       "    <tr>\n",
       "      <th>3</th>\n",
       "      <td>4</td>\n",
       "      <td>Female</td>\n",
       "      <td>23</td>\n",
       "      <td>16</td>\n",
       "      <td>77</td>\n",
       "    </tr>\n",
       "    <tr>\n",
       "      <th>4</th>\n",
       "      <td>5</td>\n",
       "      <td>Female</td>\n",
       "      <td>31</td>\n",
       "      <td>17</td>\n",
       "      <td>40</td>\n",
       "    </tr>\n",
       "  </tbody>\n",
       "</table>\n",
       "</div>"
      ],
      "text/plain": [
       "   CustomerID   Genre  Age  Annual Income (k$)  Spending Score (1-100)\n",
       "0           1    Male   19                  15                      39\n",
       "1           2    Male   21                  15                      81\n",
       "2           3  Female   20                  16                       6\n",
       "3           4  Female   23                  16                      77\n",
       "4           5  Female   31                  17                      40"
      ]
     },
     "execution_count": 4,
     "metadata": {},
     "output_type": "execute_result"
    }
   ],
   "source": [
    "df.head()"
   ]
  },
  {
   "cell_type": "code",
   "execution_count": 5,
   "id": "f09ceb1b",
   "metadata": {},
   "outputs": [],
   "source": [
    "df=df.rename(columns={'Genre':'Gender'})"
   ]
  },
  {
   "cell_type": "code",
   "execution_count": 6,
   "id": "1065c22f",
   "metadata": {},
   "outputs": [
    {
     "data": {
      "text/html": [
       "<div>\n",
       "<style scoped>\n",
       "    .dataframe tbody tr th:only-of-type {\n",
       "        vertical-align: middle;\n",
       "    }\n",
       "\n",
       "    .dataframe tbody tr th {\n",
       "        vertical-align: top;\n",
       "    }\n",
       "\n",
       "    .dataframe thead th {\n",
       "        text-align: right;\n",
       "    }\n",
       "</style>\n",
       "<table border=\"1\" class=\"dataframe\">\n",
       "  <thead>\n",
       "    <tr style=\"text-align: right;\">\n",
       "      <th></th>\n",
       "      <th>CustomerID</th>\n",
       "      <th>Gender</th>\n",
       "      <th>Age</th>\n",
       "      <th>Annual Income (k$)</th>\n",
       "      <th>Spending Score (1-100)</th>\n",
       "    </tr>\n",
       "  </thead>\n",
       "  <tbody>\n",
       "    <tr>\n",
       "      <th>0</th>\n",
       "      <td>1</td>\n",
       "      <td>Male</td>\n",
       "      <td>19</td>\n",
       "      <td>15</td>\n",
       "      <td>39</td>\n",
       "    </tr>\n",
       "    <tr>\n",
       "      <th>1</th>\n",
       "      <td>2</td>\n",
       "      <td>Male</td>\n",
       "      <td>21</td>\n",
       "      <td>15</td>\n",
       "      <td>81</td>\n",
       "    </tr>\n",
       "    <tr>\n",
       "      <th>2</th>\n",
       "      <td>3</td>\n",
       "      <td>Female</td>\n",
       "      <td>20</td>\n",
       "      <td>16</td>\n",
       "      <td>6</td>\n",
       "    </tr>\n",
       "    <tr>\n",
       "      <th>3</th>\n",
       "      <td>4</td>\n",
       "      <td>Female</td>\n",
       "      <td>23</td>\n",
       "      <td>16</td>\n",
       "      <td>77</td>\n",
       "    </tr>\n",
       "    <tr>\n",
       "      <th>4</th>\n",
       "      <td>5</td>\n",
       "      <td>Female</td>\n",
       "      <td>31</td>\n",
       "      <td>17</td>\n",
       "      <td>40</td>\n",
       "    </tr>\n",
       "  </tbody>\n",
       "</table>\n",
       "</div>"
      ],
      "text/plain": [
       "   CustomerID  Gender  Age  Annual Income (k$)  Spending Score (1-100)\n",
       "0           1    Male   19                  15                      39\n",
       "1           2    Male   21                  15                      81\n",
       "2           3  Female   20                  16                       6\n",
       "3           4  Female   23                  16                      77\n",
       "4           5  Female   31                  17                      40"
      ]
     },
     "execution_count": 6,
     "metadata": {},
     "output_type": "execute_result"
    }
   ],
   "source": [
    "df.head()"
   ]
  },
  {
   "cell_type": "code",
   "execution_count": 7,
   "id": "ee37b94a",
   "metadata": {},
   "outputs": [],
   "source": [
    "df=df.drop('CustomerID',axis=1)"
   ]
  },
  {
   "cell_type": "code",
   "execution_count": 8,
   "id": "6f65c474",
   "metadata": {},
   "outputs": [
    {
     "name": "stdout",
     "output_type": "stream",
     "text": [
      "<class 'pandas.core.frame.DataFrame'>\n",
      "RangeIndex: 200 entries, 0 to 199\n",
      "Data columns (total 4 columns):\n",
      " #   Column                  Non-Null Count  Dtype \n",
      "---  ------                  --------------  ----- \n",
      " 0   Gender                  200 non-null    object\n",
      " 1   Age                     200 non-null    int64 \n",
      " 2   Annual Income (k$)      200 non-null    int64 \n",
      " 3   Spending Score (1-100)  200 non-null    int64 \n",
      "dtypes: int64(3), object(1)\n",
      "memory usage: 5.5+ KB\n"
     ]
    }
   ],
   "source": [
    "df.info()"
   ]
  },
  {
   "cell_type": "code",
   "execution_count": 9,
   "id": "172217f2",
   "metadata": {},
   "outputs": [
    {
     "data": {
      "text/html": [
       "<div>\n",
       "<style scoped>\n",
       "    .dataframe tbody tr th:only-of-type {\n",
       "        vertical-align: middle;\n",
       "    }\n",
       "\n",
       "    .dataframe tbody tr th {\n",
       "        vertical-align: top;\n",
       "    }\n",
       "\n",
       "    .dataframe thead th {\n",
       "        text-align: right;\n",
       "    }\n",
       "</style>\n",
       "<table border=\"1\" class=\"dataframe\">\n",
       "  <thead>\n",
       "    <tr style=\"text-align: right;\">\n",
       "      <th></th>\n",
       "      <th>Age</th>\n",
       "      <th>Annual Income (k$)</th>\n",
       "      <th>Spending Score (1-100)</th>\n",
       "    </tr>\n",
       "  </thead>\n",
       "  <tbody>\n",
       "    <tr>\n",
       "      <th>count</th>\n",
       "      <td>200.000000</td>\n",
       "      <td>200.000000</td>\n",
       "      <td>200.000000</td>\n",
       "    </tr>\n",
       "    <tr>\n",
       "      <th>mean</th>\n",
       "      <td>38.850000</td>\n",
       "      <td>60.560000</td>\n",
       "      <td>50.200000</td>\n",
       "    </tr>\n",
       "    <tr>\n",
       "      <th>std</th>\n",
       "      <td>13.969007</td>\n",
       "      <td>26.264721</td>\n",
       "      <td>25.823522</td>\n",
       "    </tr>\n",
       "    <tr>\n",
       "      <th>min</th>\n",
       "      <td>18.000000</td>\n",
       "      <td>15.000000</td>\n",
       "      <td>1.000000</td>\n",
       "    </tr>\n",
       "    <tr>\n",
       "      <th>25%</th>\n",
       "      <td>28.750000</td>\n",
       "      <td>41.500000</td>\n",
       "      <td>34.750000</td>\n",
       "    </tr>\n",
       "    <tr>\n",
       "      <th>50%</th>\n",
       "      <td>36.000000</td>\n",
       "      <td>61.500000</td>\n",
       "      <td>50.000000</td>\n",
       "    </tr>\n",
       "    <tr>\n",
       "      <th>75%</th>\n",
       "      <td>49.000000</td>\n",
       "      <td>78.000000</td>\n",
       "      <td>73.000000</td>\n",
       "    </tr>\n",
       "    <tr>\n",
       "      <th>max</th>\n",
       "      <td>70.000000</td>\n",
       "      <td>137.000000</td>\n",
       "      <td>99.000000</td>\n",
       "    </tr>\n",
       "  </tbody>\n",
       "</table>\n",
       "</div>"
      ],
      "text/plain": [
       "              Age  Annual Income (k$)  Spending Score (1-100)\n",
       "count  200.000000          200.000000              200.000000\n",
       "mean    38.850000           60.560000               50.200000\n",
       "std     13.969007           26.264721               25.823522\n",
       "min     18.000000           15.000000                1.000000\n",
       "25%     28.750000           41.500000               34.750000\n",
       "50%     36.000000           61.500000               50.000000\n",
       "75%     49.000000           78.000000               73.000000\n",
       "max     70.000000          137.000000               99.000000"
      ]
     },
     "execution_count": 9,
     "metadata": {},
     "output_type": "execute_result"
    }
   ],
   "source": [
    "df.describe()"
   ]
  },
  {
   "cell_type": "code",
   "execution_count": 10,
   "id": "e0ddcccc",
   "metadata": {},
   "outputs": [
    {
     "data": {
      "text/plain": [
       "<AxesSubplot:xlabel='Gender', ylabel='count'>"
      ]
     },
     "execution_count": 10,
     "metadata": {},
     "output_type": "execute_result"
    },
    {
     "data": {
      "image/png": "[encoded data removed]",
      "text/plain": [
       "<Figure size 432x288 with 1 Axes>"
      ]
     },
     "metadata": {},
     "output_type": "display_data"
    }
   ],
   "source": [
    "sns.countplot(x='Gender',data=df)"
   ]
  },
  {
   "cell_type": "code",
   "execution_count": 61,
   "id": "475c5802",
   "metadata": {},
   "outputs": [
    {
     "data": {
      "text/plain": [
       "<seaborn.axisgrid.FacetGrid at 0x6675a30>"
      ]
     },
     "execution_count": 61,
     "metadata": {},
     "output_type": "execute_result"
    },
    {
     "data": {
      "image/png": "[encoded data removed]",
      "text/plain": [
       "<Figure size 360x360 with 1 Axes>"
      ]
     },
     "metadata": {},
     "output_type": "display_data"
    }
   ],
   "source": [
    "sns.displot(x='Age',data=df, kde=True)"
   ]
  },
  {
   "cell_type": "code",
   "execution_count": 15,
   "id": "8745481e",
   "metadata": {},
   "outputs": [
    {
     "data": {
      "text/plain": [
       "<AxesSubplot:xlabel='Age', ylabel='Count'>"
      ]
     },
     "execution_count": 15,
     "metadata": {},
     "output_type": "execute_result"
    },
    {
     "data": {
      "image/png": "[encoded data removed]",
      "text/plain": [
       "<Figure size 432x288 with 1 Axes>"
      ]
     },
     "metadata": {},
     "output_type": "display_data"
    }
   ],
   "source": [
    "sns.histplot(x='Age',data=df, kde=True, hue='Gender')"
   ]
  },
  {
   "cell_type": "code",
   "execution_count": 16,
   "id": "81d1febf",
   "metadata": {},
   "outputs": [
    {
     "data": {
      "text/plain": [
       "Index(['Gender', 'Age', 'Annual Income (k$)', 'Spending Score (1-100)'], dtype='object')"
      ]
     },
     "execution_count": 16,
     "metadata": {},
     "output_type": "execute_result"
    }
   ],
   "source": [
    "df.columns"
   ]
  },
  {
   "cell_type": "code",
   "execution_count": 60,
   "id": "7f70bd69",
   "metadata": {},
   "outputs": [
    {
     "data": {
      "text/plain": [
       "<seaborn.axisgrid.FacetGrid at 0x6675ec8>"
      ]
     },
     "execution_count": 60,
     "metadata": {},
     "output_type": "execute_result"
    },
    {
     "data": {
      "image/png": "[encoded data removed]",
      "text/plain": [
       "<Figure size 360x360 with 1 Axes>"
      ]
     },
     "metadata": {},
     "output_type": "display_data"
    }
   ],
   "source": [
    "sns.displot(x='Annual Income (k$)',data=df,kde=True)"
   ]
  },
  {
   "cell_type": "code",
   "execution_count": 59,
   "id": "e4e90944",
   "metadata": {},
   "outputs": [
    {
     "name": "stderr",
     "output_type": "stream",
     "text": [
      "C:\\Users\\owner\\anaconda\\New folder\\lib\\site-packages\\seaborn\\distributions.py:2557: FutureWarning: `distplot` is a deprecated function and will be removed in a future version. Please adapt your code to use either `displot` (a figure-level function with similar flexibility) or `histplot` (an axes-level function for histograms).\n",
      "  warnings.warn(msg, FutureWarning)\n"
     ]
    },
    {
     "data": {
      "text/plain": [
       "<AxesSubplot:xlabel='Spending Score (1-100)', ylabel='Density'>"
      ]
     },
     "execution_count": 59,
     "metadata": {},
     "output_type": "execute_result"
    },
    {
     "data": {
      "image/png": "[encoded data removed]",
      "text/plain": [
       "<Figure size 432x288 with 1 Axes>"
      ]
     },
     "metadata": {},
     "output_type": "display_data"
    }
   ],
   "source": [
    "sns.distplot(df['Spending Score (1-100)'])"
   ]
  },
  {
   "cell_type": "code",
   "execution_count": 23,
   "id": "0747a19b",
   "metadata": {},
   "outputs": [
    {
     "data": {
      "text/plain": [
       "<AxesSubplot:xlabel='Age', ylabel='Annual Income (k$)'>"
      ]
     },
     "execution_count": 23,
     "metadata": {},
     "output_type": "execute_result"
    },
    {
     "data": {
      "image/png": "[encoded data removed]",
      "text/plain": [
       "<Figure size 432x288 with 1 Axes>"
      ]
     },
     "metadata": {},
     "output_type": "display_data"
    }
   ],
   "source": [
    "sns.scatterplot(x='Age', y='Annual Income (k$)',data=df, hue='Gender')"
   ]
  },
  {
   "cell_type": "code",
   "execution_count": 24,
   "id": "82aae35c",
   "metadata": {},
   "outputs": [
    {
     "data": {
      "text/plain": [
       "<AxesSubplot:xlabel='Age', ylabel='Spending Score (1-100)'>"
      ]
     },
     "execution_count": 24,
     "metadata": {},
     "output_type": "execute_result"
    },
    {
     "data": {
      "image/png": "[encoded data removed]",
      "text/plain": [
       "<Figure size 432x288 with 1 Axes>"
      ]
     },
     "metadata": {},
     "output_type": "display_data"
    }
   ],
   "source": [
    "sns.scatterplot(x='Age', y='Spending Score (1-100)',data=df, hue='Gender')"
   ]
  },
  {
   "cell_type": "code",
   "execution_count": 26,
   "id": "b6b81033",
   "metadata": {},
   "outputs": [],
   "source": [
    "X=pd.get_dummies(df)"
   ]
  },
  {
   "cell_type": "code",
   "execution_count": 27,
   "id": "d82b7c6d",
   "metadata": {},
   "outputs": [
    {
     "data": {
      "text/html": [
       "<div>\n",
       "<style scoped>\n",
       "    .dataframe tbody tr th:only-of-type {\n",
       "        vertical-align: middle;\n",
       "    }\n",
       "\n",
       "    .dataframe tbody tr th {\n",
       "        vertical-align: top;\n",
       "    }\n",
       "\n",
       "    .dataframe thead th {\n",
       "        text-align: right;\n",
       "    }\n",
       "</style>\n",
       "<table border=\"1\" class=\"dataframe\">\n",
       "  <thead>\n",
       "    <tr style=\"text-align: right;\">\n",
       "      <th></th>\n",
       "      <th>Age</th>\n",
       "      <th>Annual Income (k$)</th>\n",
       "      <th>Spending Score (1-100)</th>\n",
       "      <th>Gender_Female</th>\n",
       "      <th>Gender_Male</th>\n",
       "    </tr>\n",
       "  </thead>\n",
       "  <tbody>\n",
       "    <tr>\n",
       "      <th>0</th>\n",
       "      <td>19</td>\n",
       "      <td>15</td>\n",
       "      <td>39</td>\n",
       "      <td>0</td>\n",
       "      <td>1</td>\n",
       "    </tr>\n",
       "    <tr>\n",
       "      <th>1</th>\n",
       "      <td>21</td>\n",
       "      <td>15</td>\n",
       "      <td>81</td>\n",
       "      <td>0</td>\n",
       "      <td>1</td>\n",
       "    </tr>\n",
       "    <tr>\n",
       "      <th>2</th>\n",
       "      <td>20</td>\n",
       "      <td>16</td>\n",
       "      <td>6</td>\n",
       "      <td>1</td>\n",
       "      <td>0</td>\n",
       "    </tr>\n",
       "    <tr>\n",
       "      <th>3</th>\n",
       "      <td>23</td>\n",
       "      <td>16</td>\n",
       "      <td>77</td>\n",
       "      <td>1</td>\n",
       "      <td>0</td>\n",
       "    </tr>\n",
       "    <tr>\n",
       "      <th>4</th>\n",
       "      <td>31</td>\n",
       "      <td>17</td>\n",
       "      <td>40</td>\n",
       "      <td>1</td>\n",
       "      <td>0</td>\n",
       "    </tr>\n",
       "  </tbody>\n",
       "</table>\n",
       "</div>"
      ],
      "text/plain": [
       "   Age  Annual Income (k$)  Spending Score (1-100)  Gender_Female  Gender_Male\n",
       "0   19                  15                      39              0            1\n",
       "1   21                  15                      81              0            1\n",
       "2   20                  16                       6              1            0\n",
       "3   23                  16                      77              1            0\n",
       "4   31                  17                      40              1            0"
      ]
     },
     "execution_count": 27,
     "metadata": {},
     "output_type": "execute_result"
    }
   ],
   "source": [
    "X.head()"
   ]
  },
  {
   "cell_type": "code",
   "execution_count": 28,
   "id": "2eb5730a",
   "metadata": {},
   "outputs": [],
   "source": [
    "from sklearn.preprocessing import StandardScaler"
   ]
  },
  {
   "cell_type": "code",
   "execution_count": 29,
   "id": "4c493b92",
   "metadata": {},
   "outputs": [],
   "source": [
    "scaler=StandardScaler()"
   ]
  },
  {
   "cell_type": "code",
   "execution_count": 30,
   "id": "e6720670",
   "metadata": {},
   "outputs": [],
   "source": [
    "scaled_X=scaler.fit_transform(X)"
   ]
  },
  {
   "cell_type": "code",
   "execution_count": 31,
   "id": "6ef4c658",
   "metadata": {},
   "outputs": [
    {
     "data": {
      "text/plain": [
       "array([[-1.42456879, -1.73899919, -0.43480148, -1.12815215,  1.12815215],\n",
       "       [-1.28103541, -1.73899919,  1.19570407, -1.12815215,  1.12815215],\n",
       "       [-1.3528021 , -1.70082976, -1.71591298,  0.88640526, -0.88640526],\n",
       "       [-1.13750203, -1.70082976,  1.04041783,  0.88640526, -0.88640526],\n",
       "       [-0.56336851, -1.66266033, -0.39597992,  0.88640526, -0.88640526],\n",
       "       [-1.20926872, -1.66266033,  1.00159627,  0.88640526, -0.88640526],\n",
       "       [-0.27630176, -1.62449091, -1.71591298,  0.88640526, -0.88640526],\n",
       "       [-1.13750203, -1.62449091,  1.70038436,  0.88640526, -0.88640526],\n",
       "       [ 1.80493225, -1.58632148, -1.83237767, -1.12815215,  1.12815215],\n",
       "       [-0.6351352 , -1.58632148,  0.84631002,  0.88640526, -0.88640526],\n",
       "       [ 2.02023231, -1.58632148, -1.4053405 , -1.12815215,  1.12815215],\n",
       "       [-0.27630176, -1.58632148,  1.89449216,  0.88640526, -0.88640526],\n",
       "       [ 1.37433211, -1.54815205, -1.36651894,  0.88640526, -0.88640526],\n",
       "       [-1.06573534, -1.54815205,  1.04041783,  0.88640526, -0.88640526],\n",
       "       [-0.13276838, -1.54815205, -1.44416206, -1.12815215,  1.12815215],\n",
       "       [-1.20926872, -1.54815205,  1.11806095, -1.12815215,  1.12815215],\n",
       "       [-0.27630176, -1.50998262, -0.59008772,  0.88640526, -0.88640526],\n",
       "       [-1.3528021 , -1.50998262,  0.61338066, -1.12815215,  1.12815215],\n",
       "       [ 0.94373197, -1.43364376, -0.82301709, -1.12815215,  1.12815215],\n",
       "       [-0.27630176, -1.43364376,  1.8556706 ,  0.88640526, -0.88640526],\n",
       "       [-0.27630176, -1.39547433, -0.59008772, -1.12815215,  1.12815215],\n",
       "       [-0.99396865, -1.39547433,  0.88513158, -1.12815215,  1.12815215],\n",
       "       [ 0.51313183, -1.3573049 , -1.75473454,  0.88640526, -0.88640526],\n",
       "       [-0.56336851, -1.3573049 ,  0.88513158, -1.12815215,  1.12815215],\n",
       "       [ 1.08726535, -1.24279661, -1.4053405 ,  0.88640526, -0.88640526],\n",
       "       [-0.70690189, -1.24279661,  1.23452563, -1.12815215,  1.12815215],\n",
       "       [ 0.44136514, -1.24279661, -0.7065524 ,  0.88640526, -0.88640526],\n",
       "       [-0.27630176, -1.24279661,  0.41927286, -1.12815215,  1.12815215],\n",
       "       [ 0.08253169, -1.20462718, -0.74537397,  0.88640526, -0.88640526],\n",
       "       [-1.13750203, -1.20462718,  1.42863343,  0.88640526, -0.88640526],\n",
       "       [ 1.51786549, -1.16645776, -1.7935561 , -1.12815215,  1.12815215],\n",
       "       [-1.28103541, -1.16645776,  0.88513158,  0.88640526, -0.88640526],\n",
       "       [ 1.01549866, -1.05194947, -1.7935561 , -1.12815215,  1.12815215],\n",
       "       [-1.49633548, -1.05194947,  1.62274124, -1.12815215,  1.12815215],\n",
       "       [ 0.7284319 , -1.05194947, -1.4053405 ,  0.88640526, -0.88640526],\n",
       "       [-1.28103541, -1.05194947,  1.19570407,  0.88640526, -0.88640526],\n",
       "       [ 0.22606507, -1.01378004, -1.28887582,  0.88640526, -0.88640526],\n",
       "       [-0.6351352 , -1.01378004,  0.88513158,  0.88640526, -0.88640526],\n",
       "       [-0.20453507, -0.89927175, -0.93948177,  0.88640526, -0.88640526],\n",
       "       [-1.3528021 , -0.89927175,  0.96277471,  0.88640526, -0.88640526],\n",
       "       [ 1.87669894, -0.86110232, -0.59008772,  0.88640526, -0.88640526],\n",
       "       [-1.06573534, -0.86110232,  1.62274124, -1.12815215,  1.12815215],\n",
       "       [ 0.65666521, -0.82293289, -0.55126616, -1.12815215,  1.12815215],\n",
       "       [-0.56336851, -0.82293289,  0.41927286,  0.88640526, -0.88640526],\n",
       "       [ 0.7284319 , -0.82293289, -0.86183865,  0.88640526, -0.88640526],\n",
       "       [-1.06573534, -0.82293289,  0.5745591 ,  0.88640526, -0.88640526],\n",
       "       [ 0.80019859, -0.78476346,  0.18634349,  0.88640526, -0.88640526],\n",
       "       [-0.85043527, -0.78476346, -0.12422899,  0.88640526, -0.88640526],\n",
       "       [-0.70690189, -0.78476346, -0.3183368 ,  0.88640526, -0.88640526],\n",
       "       [-0.56336851, -0.78476346, -0.3183368 ,  0.88640526, -0.88640526],\n",
       "       [ 0.7284319 , -0.70842461,  0.06987881,  0.88640526, -0.88640526],\n",
       "       [-0.41983513, -0.70842461,  0.38045129, -1.12815215,  1.12815215],\n",
       "       [-0.56336851, -0.67025518,  0.14752193,  0.88640526, -0.88640526],\n",
       "       [ 1.4460988 , -0.67025518,  0.38045129, -1.12815215,  1.12815215],\n",
       "       [ 0.80019859, -0.67025518, -0.20187212,  0.88640526, -0.88640526],\n",
       "       [ 0.58489852, -0.67025518, -0.35715836, -1.12815215,  1.12815215],\n",
       "       [ 0.87196528, -0.63208575, -0.00776431,  0.88640526, -0.88640526],\n",
       "       [ 2.16376569, -0.63208575, -0.16305055, -1.12815215,  1.12815215],\n",
       "       [-0.85043527, -0.55574689,  0.03105725,  0.88640526, -0.88640526],\n",
       "       [ 1.01549866, -0.55574689, -0.16305055, -1.12815215,  1.12815215],\n",
       "       [ 2.23553238, -0.55574689,  0.22516505, -1.12815215,  1.12815215],\n",
       "       [-1.42456879, -0.55574689,  0.18634349, -1.12815215,  1.12815215],\n",
       "       [ 2.02023231, -0.51757746,  0.06987881,  0.88640526, -0.88640526],\n",
       "       [ 1.08726535, -0.51757746,  0.34162973,  0.88640526, -0.88640526],\n",
       "       [ 1.73316556, -0.47940803,  0.03105725, -1.12815215,  1.12815215],\n",
       "       [-1.49633548, -0.47940803,  0.34162973, -1.12815215,  1.12815215],\n",
       "       [ 0.29783176, -0.47940803, -0.00776431,  0.88640526, -0.88640526],\n",
       "       [ 2.091999  , -0.47940803, -0.08540743,  0.88640526, -0.88640526],\n",
       "       [-1.42456879, -0.47940803,  0.34162973, -1.12815215,  1.12815215],\n",
       "       [-0.49160182, -0.47940803, -0.12422899,  0.88640526, -0.88640526],\n",
       "       [ 2.23553238, -0.4412386 ,  0.18634349, -1.12815215,  1.12815215],\n",
       "       [ 0.58489852, -0.4412386 , -0.3183368 ,  0.88640526, -0.88640526],\n",
       "       [ 1.51786549, -0.40306917, -0.04658587,  0.88640526, -0.88640526],\n",
       "       [ 1.51786549, -0.40306917,  0.22516505,  0.88640526, -0.88640526],\n",
       "       [ 1.4460988 , -0.25039146, -0.12422899, -1.12815215,  1.12815215],\n",
       "       [-0.92220196, -0.25039146,  0.14752193, -1.12815215,  1.12815215],\n",
       "       [ 0.44136514, -0.25039146,  0.10870037,  0.88640526, -0.88640526],\n",
       "       [ 0.08253169, -0.25039146, -0.08540743, -1.12815215,  1.12815215],\n",
       "       [-1.13750203, -0.25039146,  0.06987881,  0.88640526, -0.88640526],\n",
       "       [ 0.7284319 , -0.25039146, -0.3183368 ,  0.88640526, -0.88640526],\n",
       "       [ 1.30256542, -0.25039146,  0.03105725, -1.12815215,  1.12815215],\n",
       "       [-0.06100169, -0.25039146,  0.18634349, -1.12815215,  1.12815215],\n",
       "       [ 2.02023231, -0.25039146, -0.35715836, -1.12815215,  1.12815215],\n",
       "       [ 0.51313183, -0.25039146, -0.24069368,  0.88640526, -0.88640526],\n",
       "       [-1.28103541, -0.25039146,  0.26398661,  0.88640526, -0.88640526],\n",
       "       [ 0.65666521, -0.25039146, -0.16305055, -1.12815215,  1.12815215],\n",
       "       [ 1.15903204, -0.13588317,  0.30280817,  0.88640526, -0.88640526],\n",
       "       [-1.20926872, -0.13588317,  0.18634349,  0.88640526, -0.88640526],\n",
       "       [-0.34806844, -0.09771374,  0.38045129,  0.88640526, -0.88640526],\n",
       "       [ 0.80019859, -0.09771374, -0.16305055,  0.88640526, -0.88640526],\n",
       "       [ 2.091999  , -0.05954431,  0.18634349,  0.88640526, -0.88640526],\n",
       "       [-1.49633548, -0.05954431, -0.35715836, -1.12815215,  1.12815215],\n",
       "       [ 0.65666521, -0.02137488, -0.04658587, -1.12815215,  1.12815215],\n",
       "       [ 0.08253169, -0.02137488, -0.39597992,  0.88640526, -0.88640526],\n",
       "       [-0.49160182, -0.02137488, -0.3183368 ,  0.88640526, -0.88640526],\n",
       "       [-1.06573534, -0.02137488,  0.06987881, -1.12815215,  1.12815215],\n",
       "       [ 0.58489852, -0.02137488, -0.12422899,  0.88640526, -0.88640526],\n",
       "       [-0.85043527, -0.02137488, -0.00776431,  0.88640526, -0.88640526],\n",
       "       [ 0.65666521,  0.01679455, -0.3183368 , -1.12815215,  1.12815215],\n",
       "       [-1.3528021 ,  0.01679455, -0.04658587, -1.12815215,  1.12815215],\n",
       "       [-1.13750203,  0.05496398, -0.35715836,  0.88640526, -0.88640526],\n",
       "       [ 0.7284319 ,  0.05496398, -0.08540743,  0.88640526, -0.88640526],\n",
       "       [ 2.02023231,  0.05496398,  0.34162973, -1.12815215,  1.12815215],\n",
       "       [-0.92220196,  0.05496398,  0.18634349, -1.12815215,  1.12815215],\n",
       "       [ 0.7284319 ,  0.05496398,  0.22516505, -1.12815215,  1.12815215],\n",
       "       [-1.28103541,  0.05496398, -0.3183368 ,  0.88640526, -0.88640526],\n",
       "       [ 1.94846562,  0.09313341, -0.00776431,  0.88640526, -0.88640526],\n",
       "       [ 1.08726535,  0.09313341, -0.16305055, -1.12815215,  1.12815215],\n",
       "       [ 2.091999  ,  0.09313341, -0.27951524, -1.12815215,  1.12815215],\n",
       "       [ 1.94846562,  0.09313341, -0.08540743, -1.12815215,  1.12815215],\n",
       "       [ 1.87669894,  0.09313341,  0.06987881, -1.12815215,  1.12815215],\n",
       "       [-1.42456879,  0.09313341,  0.14752193,  0.88640526, -0.88640526],\n",
       "       [-0.06100169,  0.13130284, -0.3183368 ,  0.88640526, -0.88640526],\n",
       "       [-1.42456879,  0.13130284, -0.16305055, -1.12815215,  1.12815215],\n",
       "       [-1.49633548,  0.16947227, -0.08540743,  0.88640526, -0.88640526],\n",
       "       [-1.42456879,  0.16947227, -0.00776431,  0.88640526, -0.88640526],\n",
       "       [ 1.73316556,  0.16947227, -0.27951524,  0.88640526, -0.88640526],\n",
       "       [ 0.7284319 ,  0.16947227,  0.34162973,  0.88640526, -0.88640526],\n",
       "       [ 0.87196528,  0.24581112, -0.27951524,  0.88640526, -0.88640526],\n",
       "       [ 0.80019859,  0.24581112,  0.26398661,  0.88640526, -0.88640526],\n",
       "       [-0.85043527,  0.24581112,  0.22516505, -1.12815215,  1.12815215],\n",
       "       [-0.06100169,  0.24581112, -0.39597992,  0.88640526, -0.88640526],\n",
       "       [ 0.08253169,  0.32214998,  0.30280817,  0.88640526, -0.88640526],\n",
       "       [ 0.010765  ,  0.32214998,  1.58391968, -1.12815215,  1.12815215],\n",
       "       [-1.13750203,  0.36031941, -0.82301709,  0.88640526, -0.88640526],\n",
       "       [-0.56336851,  0.36031941,  1.04041783,  0.88640526, -0.88640526],\n",
       "       [ 0.29783176,  0.39848884, -0.59008772, -1.12815215,  1.12815215],\n",
       "       [ 0.08253169,  0.39848884,  1.73920592, -1.12815215,  1.12815215],\n",
       "       [ 1.4460988 ,  0.39848884, -1.52180518, -1.12815215,  1.12815215],\n",
       "       [-0.06100169,  0.39848884,  0.96277471, -1.12815215,  1.12815215],\n",
       "       [ 0.58489852,  0.39848884, -1.5994483 , -1.12815215,  1.12815215],\n",
       "       [ 0.010765  ,  0.39848884,  0.96277471, -1.12815215,  1.12815215],\n",
       "       [-0.99396865,  0.43665827, -0.62890928,  0.88640526, -0.88640526],\n",
       "       [-0.56336851,  0.43665827,  0.80748846,  0.88640526, -0.88640526],\n",
       "       [-1.3528021 ,  0.4748277 , -1.75473454, -1.12815215,  1.12815215],\n",
       "       [-0.70690189,  0.4748277 ,  1.46745499,  0.88640526, -0.88640526],\n",
       "       [ 0.36959845,  0.4748277 , -1.67709142,  0.88640526, -0.88640526],\n",
       "       [-0.49160182,  0.4748277 ,  0.88513158, -1.12815215,  1.12815215],\n",
       "       [-1.42456879,  0.51299713, -1.56062674, -1.12815215,  1.12815215],\n",
       "       [-0.27630176,  0.51299713,  0.84631002,  0.88640526, -0.88640526],\n",
       "       [ 1.30256542,  0.55116656, -1.75473454,  0.88640526, -0.88640526],\n",
       "       [-0.49160182,  0.55116656,  1.6615628 , -1.12815215,  1.12815215],\n",
       "       [-0.77866858,  0.58933599, -0.39597992,  0.88640526, -0.88640526],\n",
       "       [-0.49160182,  0.58933599,  1.42863343,  0.88640526, -0.88640526],\n",
       "       [-0.99396865,  0.62750542, -1.48298362, -1.12815215,  1.12815215],\n",
       "       [-0.77866858,  0.62750542,  1.81684904, -1.12815215,  1.12815215],\n",
       "       [ 0.65666521,  0.62750542, -0.55126616, -1.12815215,  1.12815215],\n",
       "       [-0.49160182,  0.62750542,  0.92395314,  0.88640526, -0.88640526],\n",
       "       [-0.34806844,  0.66567484, -1.09476801,  0.88640526, -0.88640526],\n",
       "       [-0.34806844,  0.66567484,  1.54509812, -1.12815215,  1.12815215],\n",
       "       [ 0.29783176,  0.66567484, -1.28887582, -1.12815215,  1.12815215],\n",
       "       [ 0.010765  ,  0.66567484,  1.46745499, -1.12815215,  1.12815215],\n",
       "       [ 0.36959845,  0.66567484, -1.17241113,  0.88640526, -0.88640526],\n",
       "       [-0.06100169,  0.66567484,  1.00159627,  0.88640526, -0.88640526],\n",
       "       [ 0.58489852,  0.66567484, -1.32769738,  0.88640526, -0.88640526],\n",
       "       [-0.85043527,  0.66567484,  1.50627656,  0.88640526, -0.88640526],\n",
       "       [-0.13276838,  0.66567484, -1.91002079, -1.12815215,  1.12815215],\n",
       "       [-0.6351352 ,  0.66567484,  1.07923939,  0.88640526, -0.88640526],\n",
       "       [-0.34806844,  0.66567484, -1.91002079, -1.12815215,  1.12815215],\n",
       "       [-0.6351352 ,  0.66567484,  0.88513158,  0.88640526, -0.88640526],\n",
       "       [ 1.23079873,  0.70384427, -0.59008772,  0.88640526, -0.88640526],\n",
       "       [-0.70690189,  0.70384427,  1.27334719,  0.88640526, -0.88640526],\n",
       "       [-1.42456879,  0.78018313, -1.75473454, -1.12815215,  1.12815215],\n",
       "       [-0.56336851,  0.78018313,  1.6615628 ,  0.88640526, -0.88640526],\n",
       "       [ 0.80019859,  0.93286085, -0.93948177, -1.12815215,  1.12815215],\n",
       "       [-0.20453507,  0.93286085,  0.96277471,  0.88640526, -0.88640526],\n",
       "       [ 0.22606507,  0.97103028, -1.17241113, -1.12815215,  1.12815215],\n",
       "       [-0.41983513,  0.97103028,  1.73920592,  0.88640526, -0.88640526],\n",
       "       [-0.20453507,  1.00919971, -0.90066021,  0.88640526, -0.88640526],\n",
       "       [-0.49160182,  1.00919971,  0.49691598, -1.12815215,  1.12815215],\n",
       "       [ 0.08253169,  1.00919971, -1.44416206, -1.12815215,  1.12815215],\n",
       "       [-0.77866858,  1.00919971,  0.96277471, -1.12815215,  1.12815215],\n",
       "       [-0.20453507,  1.00919971, -1.56062674, -1.12815215,  1.12815215],\n",
       "       [-0.20453507,  1.00919971,  1.62274124, -1.12815215,  1.12815215],\n",
       "       [ 0.94373197,  1.04736914, -1.44416206,  0.88640526, -0.88640526],\n",
       "       [-0.6351352 ,  1.04736914,  1.38981187,  0.88640526, -0.88640526],\n",
       "       [ 1.37433211,  1.04736914, -1.36651894, -1.12815215,  1.12815215],\n",
       "       [-0.85043527,  1.04736914,  0.72984534, -1.12815215,  1.12815215],\n",
       "       [ 1.4460988 ,  1.23821628, -1.4053405 , -1.12815215,  1.12815215],\n",
       "       [-0.27630176,  1.23821628,  1.54509812, -1.12815215,  1.12815215],\n",
       "       [-0.13276838,  1.390894  , -0.7065524 ,  0.88640526, -0.88640526],\n",
       "       [-0.49160182,  1.390894  ,  1.38981187,  0.88640526, -0.88640526],\n",
       "       [ 0.51313183,  1.42906343, -1.36651894, -1.12815215,  1.12815215],\n",
       "       [-0.70690189,  1.42906343,  1.46745499,  0.88640526, -0.88640526],\n",
       "       [ 0.15429838,  1.46723286, -0.43480148,  0.88640526, -0.88640526],\n",
       "       [-0.6351352 ,  1.46723286,  1.81684904, -1.12815215,  1.12815215],\n",
       "       [ 1.08726535,  1.54357172, -1.01712489,  0.88640526, -0.88640526],\n",
       "       [-0.77866858,  1.54357172,  0.69102378, -1.12815215,  1.12815215],\n",
       "       [ 0.15429838,  1.61991057, -1.28887582,  0.88640526, -0.88640526],\n",
       "       [-0.20453507,  1.61991057,  1.35099031,  0.88640526, -0.88640526],\n",
       "       [-0.34806844,  1.61991057, -1.05594645,  0.88640526, -0.88640526],\n",
       "       [-0.49160182,  1.61991057,  0.72984534,  0.88640526, -0.88640526],\n",
       "       [-0.41983513,  2.00160487, -1.63826986, -1.12815215,  1.12815215],\n",
       "       [-0.06100169,  2.00160487,  1.58391968,  0.88640526, -0.88640526],\n",
       "       [ 0.58489852,  2.26879087, -1.32769738,  0.88640526, -0.88640526],\n",
       "       [-0.27630176,  2.26879087,  1.11806095,  0.88640526, -0.88640526],\n",
       "       [ 0.44136514,  2.49780745, -0.86183865,  0.88640526, -0.88640526],\n",
       "       [-0.49160182,  2.49780745,  0.92395314, -1.12815215,  1.12815215],\n",
       "       [-0.49160182,  2.91767117, -1.25005425, -1.12815215,  1.12815215],\n",
       "       [-0.6351352 ,  2.91767117,  1.27334719, -1.12815215,  1.12815215]])"
      ]
     },
     "execution_count": 31,
     "metadata": {},
     "output_type": "execute_result"
    }
   ],
   "source": [
    "scaled_X"
   ]
  },
  {
   "cell_type": "code",
   "execution_count": 32,
   "id": "b56f26c6",
   "metadata": {},
   "outputs": [],
   "source": [
    "from sklearn.cluster import KMeans"
   ]
  },
  {
   "cell_type": "code",
   "execution_count": 115,
   "id": "48539c49",
   "metadata": {},
   "outputs": [],
   "source": [
    "ssd=[]\n",
    "\n",
    "for k in range(1,12):\n",
    "    model=KMeans(n_clusters=k)\n",
    "    model.fit(scaled_X)\n",
    "    \n",
    "    ssd.append(model.inertia_)"
   ]
  },
  {
   "cell_type": "code",
   "execution_count": 116,
   "id": "f6d7ba8c",
   "metadata": {},
   "outputs": [
    {
     "data": {
      "text/plain": [
       "[1000.0000000000002,\n",
       " 597.947293793228,\n",
       " 488.1952688524798,\n",
       " 386.7147857740688,\n",
       " 331.3786392229278,\n",
       " 281.0938816318835,\n",
       " 240.0033657433026,\n",
       " 199.7166255966767,\n",
       " 174.2504760124712,\n",
       " 152.6470392967239,\n",
       " 137.13089037728145]"
      ]
     },
     "execution_count": 116,
     "metadata": {},
     "output_type": "execute_result"
    }
   ],
   "source": [
    "ssd"
   ]
  },
  {
   "cell_type": "code",
   "execution_count": 117,
   "id": "0cb1018e",
   "metadata": {},
   "outputs": [
    {
     "data": {
      "image/png": "[encoded data removed]",
      "text/plain": [
       "<Figure size 864x432 with 1 Axes>"
      ]
     },
     "metadata": {},
     "output_type": "display_data"
    }
   ],
   "source": [
    "plt.figure(figsize=(12,6))\n",
    "plt.plot(range(1,12),ssd, 'o--')\n",
    "plt.xlabel('K Values')\n",
    "plt.ylabel('Sum of Squared distance');"
   ]
  },
  {
   "cell_type": "code",
   "execution_count": 37,
   "id": "255e0897",
   "metadata": {},
   "outputs": [
    {
     "data": {
      "text/plain": [
       "0     1000.000000\n",
       "1      597.947294\n",
       "2      488.195269\n",
       "3      386.714786\n",
       "4      331.264999\n",
       "5      280.717732\n",
       "6      239.107217\n",
       "7      199.716626\n",
       "8      177.061824\n",
       "9      152.705744\n",
       "10     137.744702\n",
       "dtype: float64"
      ]
     },
     "execution_count": 37,
     "metadata": {},
     "output_type": "execute_result"
    }
   ],
   "source": [
    "pd.Series(ssd)"
   ]
  },
  {
   "cell_type": "code",
   "execution_count": 67,
   "id": "2b1a002e",
   "metadata": {},
   "outputs": [
    {
     "data": {
      "text/plain": [
       "0            NaN\n",
       "1    -402.052706\n",
       "2    -109.752025\n",
       "3    -101.480483\n",
       "4     -55.449786\n",
       "5     -50.547267\n",
       "6     -41.610515\n",
       "7     -39.390592\n",
       "8     -22.654802\n",
       "9     -24.356080\n",
       "10    -14.961042\n",
       "dtype: float64"
      ]
     },
     "execution_count": 67,
     "metadata": {},
     "output_type": "execute_result"
    }
   ],
   "source": [
    "pd.Series(ssd).diff()"
   ]
  },
  {
   "cell_type": "code",
   "execution_count": 78,
   "id": "a9f00d1b",
   "metadata": {},
   "outputs": [],
   "source": [
    "#Choosing k=5\n",
    "\n",
    "model=KMeans(n_clusters=5, random_state=101, max_iter=100)"
   ]
  },
  {
   "cell_type": "code",
   "execution_count": 79,
   "id": "87ddc574",
   "metadata": {},
   "outputs": [
    {
     "name": "stderr",
     "output_type": "stream",
     "text": [
      "C:\\Users\\owner\\anaconda\\New folder\\lib\\site-packages\\sklearn\\cluster\\_kmeans.py:1334: UserWarning: KMeans is known to have a memory leak on Windows with MKL, when there are less chunks than available threads. You can avoid it by setting the environment variable OMP_NUM_THREADS=1.\n",
      "  warnings.warn(\n"
     ]
    },
    {
     "data": {
      "text/html": [
       "<style>#sk-container-id-2 {color: black;background-color: white;}#sk-container-id-2 pre{padding: 0;}#sk-container-id-2 div.sk-toggleable {background-color: white;}#sk-container-id-2 label.sk-toggleable__label {cursor: pointer;display: block;width: 100%;margin-bottom: 0;padding: 0.3em;box-sizing: border-box;text-align: center;}#sk-container-id-2 label.sk-toggleable__label-arrow:before {content: \"▸\";float: left;margin-right: 0.25em;color: #696969;}#sk-container-id-2 label.sk-toggleable__label-arrow:hover:before {color: black;}#sk-container-id-2 div.sk-estimator:hover label.sk-toggleable__label-arrow:before {color: black;}#sk-container-id-2 div.sk-toggleable__content {max-height: 0;max-width: 0;overflow: hidden;text-align: left;background-color: #f0f8ff;}#sk-container-id-2 div.sk-toggleable__content pre {margin: 0.2em;color: black;border-radius: 0.25em;background-color: #f0f8ff;}#sk-container-id-2 input.sk-toggleable__control:checked~div.sk-toggleable__content {max-height: 200px;max-width: 100%;overflow: auto;}#sk-container-id-2 input.sk-toggleable__control:checked~label.sk-toggleable__label-arrow:before {content: \"▾\";}#sk-container-id-2 div.sk-estimator input.sk-toggleable__control:checked~label.sk-toggleable__label {background-color: #d4ebff;}#sk-container-id-2 div.sk-label input.sk-toggleable__control:checked~label.sk-toggleable__label {background-color: #d4ebff;}#sk-container-id-2 input.sk-hidden--visually {border: 0;clip: rect(1px 1px 1px 1px);clip: rect(1px, 1px, 1px, 1px);height: 1px;margin: -1px;overflow: hidden;padding: 0;position: absolute;width: 1px;}#sk-container-id-2 div.sk-estimator {font-family: monospace;background-color: #f0f8ff;border: 1px dotted black;border-radius: 0.25em;box-sizing: border-box;margin-bottom: 0.5em;}#sk-container-id-2 div.sk-estimator:hover {background-color: #d4ebff;}#sk-container-id-2 div.sk-parallel-item::after {content: \"\";width: 100%;border-bottom: 1px solid gray;flex-grow: 1;}#sk-container-id-2 div.sk-label:hover label.sk-toggleable__label {background-color: #d4ebff;}#sk-container-id-2 div.sk-serial::before {content: \"\";position: absolute;border-left: 1px solid gray;box-sizing: border-box;top: 0;bottom: 0;left: 50%;z-index: 0;}#sk-container-id-2 div.sk-serial {display: flex;flex-direction: column;align-items: center;background-color: white;padding-right: 0.2em;padding-left: 0.2em;position: relative;}#sk-container-id-2 div.sk-item {position: relative;z-index: 1;}#sk-container-id-2 div.sk-parallel {display: flex;align-items: stretch;justify-content: center;background-color: white;position: relative;}#sk-container-id-2 div.sk-item::before, #sk-container-id-2 div.sk-parallel-item::before {content: \"\";position: absolute;border-left: 1px solid gray;box-sizing: border-box;top: 0;bottom: 0;left: 50%;z-index: -1;}#sk-container-id-2 div.sk-parallel-item {display: flex;flex-direction: column;z-index: 1;position: relative;background-color: white;}#sk-container-id-2 div.sk-parallel-item:first-child::after {align-self: flex-end;width: 50%;}#sk-container-id-2 div.sk-parallel-item:last-child::after {align-self: flex-start;width: 50%;}#sk-container-id-2 div.sk-parallel-item:only-child::after {width: 0;}#sk-container-id-2 div.sk-dashed-wrapped {border: 1px dashed gray;margin: 0 0.4em 0.5em 0.4em;box-sizing: border-box;padding-bottom: 0.4em;background-color: white;}#sk-container-id-2 div.sk-label label {font-family: monospace;font-weight: bold;display: inline-block;line-height: 1.2em;}#sk-container-id-2 div.sk-label-container {text-align: center;}#sk-container-id-2 div.sk-container {/* jupyter's `normalize.less` sets `[hidden] { display: none; }` but bootstrap.min.css set `[hidden] { display: none !important; }` so we also need the `!important` here to be able to override the default hidden behavior on the sphinx rendered scikit-learn.org. See: https://github.com/scikit-learn/scikit-learn/issues/21755 */display: inline-block !important;position: relative;}#sk-container-id-2 div.sk-text-repr-fallback {display: none;}</style><div id=\"sk-container-id-2\" class=\"sk-top-container\"><div class=\"sk-text-repr-fallback\"><pre>KMeans(max_iter=100, n_clusters=5, random_state=101)</pre><b>In a Jupyter environment, please rerun this cell to show the HTML representation or trust the notebook. <br />On GitHub, the HTML representation is unable to render, please try loading this page with nbviewer.org.</b></div><div class=\"sk-container\" hidden><div class=\"sk-item\"><div class=\"sk-estimator sk-toggleable\"><input class=\"sk-toggleable__control sk-hidden--visually\" id=\"sk-estimator-id-2\" type=\"checkbox\" checked><label for=\"sk-estimator-id-2\" class=\"sk-toggleable__label sk-toggleable__label-arrow\">KMeans</label><div class=\"sk-toggleable__content\"><pre>KMeans(max_iter=100, n_clusters=5, random_state=101)</pre></div></div></div></div></div>"
      ],
      "text/plain": [
       "KMeans(max_iter=100, n_clusters=5, random_state=101)"
      ]
     },
     "execution_count": 79,
     "metadata": {},
     "output_type": "execute_result"
    }
   ],
   "source": [
    "model.fit(scaled_X)"
   ]
  },
  {
   "cell_type": "code",
   "execution_count": 80,
   "id": "cdec5fec",
   "metadata": {},
   "outputs": [
    {
     "data": {
      "text/plain": [
       "array([0, 0, 2, 1, 1, 1, 2, 1, 3, 1, 3, 1, 2, 1, 3, 0, 2, 0, 3, 1, 3, 0,\n",
       "       2, 0, 2, 0, 2, 0, 2, 1, 3, 1, 3, 0, 2, 1, 2, 1, 2, 1, 2, 0, 3, 1,\n",
       "       2, 1, 2, 1, 1, 1, 2, 0, 1, 3, 2, 3, 2, 3, 1, 3, 3, 0, 2, 2, 3, 0,\n",
       "       2, 2, 0, 1, 3, 2, 2, 2, 3, 0, 2, 0, 1, 2, 3, 0, 3, 2, 1, 3, 2, 1,\n",
       "       1, 2, 2, 0, 3, 2, 1, 0, 2, 1, 3, 0, 1, 2, 3, 0, 3, 1, 2, 3, 3, 3,\n",
       "       3, 1, 2, 0, 1, 1, 2, 2, 2, 2, 0, 2, 1, 0, 1, 1, 4, 0, 3, 0, 4, 0,\n",
       "       1, 1, 4, 1, 2, 0, 4, 1, 2, 0, 1, 1, 4, 0, 4, 1, 2, 0, 4, 0, 2, 1,\n",
       "       2, 1, 4, 1, 4, 1, 2, 1, 4, 1, 4, 1, 4, 1, 2, 0, 4, 0, 4, 0, 2, 1,\n",
       "       4, 0, 4, 0, 2, 1, 4, 1, 2, 0, 2, 0, 2, 1, 2, 1, 4, 1, 2, 1, 2, 0,\n",
       "       4, 0])"
      ]
     },
     "execution_count": 80,
     "metadata": {},
     "output_type": "execute_result"
    }
   ],
   "source": [
    "model.labels_"
   ]
  },
  {
   "cell_type": "code",
   "execution_count": 81,
   "id": "a0a5e9ef",
   "metadata": {},
   "outputs": [],
   "source": [
    "X['Label']=model.labels_"
   ]
  },
  {
   "cell_type": "code",
   "execution_count": 82,
   "id": "6bee906a",
   "metadata": {},
   "outputs": [
    {
     "data": {
      "text/html": [
       "<div>\n",
       "<style scoped>\n",
       "    .dataframe tbody tr th:only-of-type {\n",
       "        vertical-align: middle;\n",
       "    }\n",
       "\n",
       "    .dataframe tbody tr th {\n",
       "        vertical-align: top;\n",
       "    }\n",
       "\n",
       "    .dataframe thead th {\n",
       "        text-align: right;\n",
       "    }\n",
       "</style>\n",
       "<table border=\"1\" class=\"dataframe\">\n",
       "  <thead>\n",
       "    <tr style=\"text-align: right;\">\n",
       "      <th></th>\n",
       "      <th>Age</th>\n",
       "      <th>Annual Income (k$)</th>\n",
       "      <th>Spending Score (1-100)</th>\n",
       "      <th>Gender_Female</th>\n",
       "      <th>Gender_Male</th>\n",
       "      <th>Label</th>\n",
       "    </tr>\n",
       "  </thead>\n",
       "  <tbody>\n",
       "    <tr>\n",
       "      <th>0</th>\n",
       "      <td>19</td>\n",
       "      <td>15</td>\n",
       "      <td>39</td>\n",
       "      <td>0</td>\n",
       "      <td>1</td>\n",
       "      <td>0</td>\n",
       "    </tr>\n",
       "    <tr>\n",
       "      <th>1</th>\n",
       "      <td>21</td>\n",
       "      <td>15</td>\n",
       "      <td>81</td>\n",
       "      <td>0</td>\n",
       "      <td>1</td>\n",
       "      <td>0</td>\n",
       "    </tr>\n",
       "    <tr>\n",
       "      <th>2</th>\n",
       "      <td>20</td>\n",
       "      <td>16</td>\n",
       "      <td>6</td>\n",
       "      <td>1</td>\n",
       "      <td>0</td>\n",
       "      <td>2</td>\n",
       "    </tr>\n",
       "    <tr>\n",
       "      <th>3</th>\n",
       "      <td>23</td>\n",
       "      <td>16</td>\n",
       "      <td>77</td>\n",
       "      <td>1</td>\n",
       "      <td>0</td>\n",
       "      <td>1</td>\n",
       "    </tr>\n",
       "    <tr>\n",
       "      <th>4</th>\n",
       "      <td>31</td>\n",
       "      <td>17</td>\n",
       "      <td>40</td>\n",
       "      <td>1</td>\n",
       "      <td>0</td>\n",
       "      <td>1</td>\n",
       "    </tr>\n",
       "  </tbody>\n",
       "</table>\n",
       "</div>"
      ],
      "text/plain": [
       "   Age  Annual Income (k$)  Spending Score (1-100)  Gender_Female  \\\n",
       "0   19                  15                      39              0   \n",
       "1   21                  15                      81              0   \n",
       "2   20                  16                       6              1   \n",
       "3   23                  16                      77              1   \n",
       "4   31                  17                      40              1   \n",
       "\n",
       "   Gender_Male  Label  \n",
       "0            1      0  \n",
       "1            1      0  \n",
       "2            0      2  \n",
       "3            0      1  \n",
       "4            0      1  "
      ]
     },
     "execution_count": 82,
     "metadata": {},
     "output_type": "execute_result"
    }
   ],
   "source": [
    "X.head()"
   ]
  },
  {
   "cell_type": "code",
   "execution_count": 87,
   "id": "8595d05b",
   "metadata": {},
   "outputs": [],
   "source": [
    "df['Label']=model.labels_"
   ]
  },
  {
   "cell_type": "code",
   "execution_count": 83,
   "id": "87f0743f",
   "metadata": {},
   "outputs": [
    {
     "data": {
      "text/plain": [
       "<AxesSubplot:xlabel='Age', ylabel='Annual Income (k$)'>"
      ]
     },
     "execution_count": 83,
     "metadata": {},
     "output_type": "execute_result"
    },
    {
     "data": {
      "image/png": "[encoded data removed]",
      "text/plain": [
       "<Figure size 432x288 with 1 Axes>"
      ]
     },
     "metadata": {},
     "output_type": "display_data"
    }
   ],
   "source": [
    "sns.scatterplot(x='Age', y='Annual Income (k$)',data=X, hue='Label')"
   ]
  },
  {
   "cell_type": "code",
   "execution_count": 84,
   "id": "fd721cd8",
   "metadata": {},
   "outputs": [
    {
     "data": {
      "text/plain": [
       "<AxesSubplot:>"
      ]
     },
     "execution_count": 84,
     "metadata": {},
     "output_type": "execute_result"
    },
    {
     "data": {
      "image/png": "[encoded data removed]",
      "text/plain": [
       "<Figure size 432x288 with 1 Axes>"
      ]
     },
     "metadata": {},
     "output_type": "display_data"
    }
   ],
   "source": [
    "X.corr()['Label'].sort_values().plot(kind='bar')"
   ]
  },
  {
   "cell_type": "code",
   "execution_count": 88,
   "id": "3eb05768",
   "metadata": {},
   "outputs": [
    {
     "data": {
      "text/plain": [
       "<AxesSubplot:xlabel='Annual Income (k$)', ylabel='Spending Score (1-100)'>"
      ]
     },
     "execution_count": 88,
     "metadata": {},
     "output_type": "execute_result"
    },
    {
     "data": {
      "image/png": "[encoded data removed]",
      "text/plain": [
       "<Figure size 864x432 with 1 Axes>"
      ]
     },
     "metadata": {},
     "output_type": "display_data"
    }
   ],
   "source": [
    "plt.figure(figsize=(12,6))\n",
    "sns.scatterplot(data=df, x=\"Annual Income (k$)\", y=\"Spending Score (1-100)\", hue=\"Label\", palette=['green','orange','brown','blue','red'])"
   ]
  },
  {
   "cell_type": "code",
   "execution_count": 90,
   "id": "3b2158ac",
   "metadata": {},
   "outputs": [],
   "source": [
    "x=X.drop(['Gender_Female','Gender_Male','Label'],axis=1)"
   ]
  },
  {
   "cell_type": "code",
   "execution_count": 91,
   "id": "64a81015",
   "metadata": {},
   "outputs": [
    {
     "data": {
      "text/html": [
       "<div>\n",
       "<style scoped>\n",
       "    .dataframe tbody tr th:only-of-type {\n",
       "        vertical-align: middle;\n",
       "    }\n",
       "\n",
       "    .dataframe tbody tr th {\n",
       "        vertical-align: top;\n",
       "    }\n",
       "\n",
       "    .dataframe thead th {\n",
       "        text-align: right;\n",
       "    }\n",
       "</style>\n",
       "<table border=\"1\" class=\"dataframe\">\n",
       "  <thead>\n",
       "    <tr style=\"text-align: right;\">\n",
       "      <th></th>\n",
       "      <th>Age</th>\n",
       "      <th>Annual Income (k$)</th>\n",
       "      <th>Spending Score (1-100)</th>\n",
       "    </tr>\n",
       "  </thead>\n",
       "  <tbody>\n",
       "    <tr>\n",
       "      <th>0</th>\n",
       "      <td>19</td>\n",
       "      <td>15</td>\n",
       "      <td>39</td>\n",
       "    </tr>\n",
       "    <tr>\n",
       "      <th>1</th>\n",
       "      <td>21</td>\n",
       "      <td>15</td>\n",
       "      <td>81</td>\n",
       "    </tr>\n",
       "    <tr>\n",
       "      <th>2</th>\n",
       "      <td>20</td>\n",
       "      <td>16</td>\n",
       "      <td>6</td>\n",
       "    </tr>\n",
       "    <tr>\n",
       "      <th>3</th>\n",
       "      <td>23</td>\n",
       "      <td>16</td>\n",
       "      <td>77</td>\n",
       "    </tr>\n",
       "    <tr>\n",
       "      <th>4</th>\n",
       "      <td>31</td>\n",
       "      <td>17</td>\n",
       "      <td>40</td>\n",
       "    </tr>\n",
       "    <tr>\n",
       "      <th>...</th>\n",
       "      <td>...</td>\n",
       "      <td>...</td>\n",
       "      <td>...</td>\n",
       "    </tr>\n",
       "    <tr>\n",
       "      <th>195</th>\n",
       "      <td>35</td>\n",
       "      <td>120</td>\n",
       "      <td>79</td>\n",
       "    </tr>\n",
       "    <tr>\n",
       "      <th>196</th>\n",
       "      <td>45</td>\n",
       "      <td>126</td>\n",
       "      <td>28</td>\n",
       "    </tr>\n",
       "    <tr>\n",
       "      <th>197</th>\n",
       "      <td>32</td>\n",
       "      <td>126</td>\n",
       "      <td>74</td>\n",
       "    </tr>\n",
       "    <tr>\n",
       "      <th>198</th>\n",
       "      <td>32</td>\n",
       "      <td>137</td>\n",
       "      <td>18</td>\n",
       "    </tr>\n",
       "    <tr>\n",
       "      <th>199</th>\n",
       "      <td>30</td>\n",
       "      <td>137</td>\n",
       "      <td>83</td>\n",
       "    </tr>\n",
       "  </tbody>\n",
       "</table>\n",
       "<p>200 rows × 3 columns</p>\n",
       "</div>"
      ],
      "text/plain": [
       "     Age  Annual Income (k$)  Spending Score (1-100)\n",
       "0     19                  15                      39\n",
       "1     21                  15                      81\n",
       "2     20                  16                       6\n",
       "3     23                  16                      77\n",
       "4     31                  17                      40\n",
       "..   ...                 ...                     ...\n",
       "195   35                 120                      79\n",
       "196   45                 126                      28\n",
       "197   32                 126                      74\n",
       "198   32                 137                      18\n",
       "199   30                 137                      83\n",
       "\n",
       "[200 rows x 3 columns]"
      ]
     },
     "execution_count": 91,
     "metadata": {},
     "output_type": "execute_result"
    }
   ],
   "source": [
    "x"
   ]
  },
  {
   "cell_type": "code",
   "execution_count": 92,
   "id": "4bc1ad65",
   "metadata": {},
   "outputs": [],
   "source": [
    "x_scaled=scaler.fit_transform(x)"
   ]
  },
  {
   "cell_type": "code",
   "execution_count": 93,
   "id": "46e0c72b",
   "metadata": {},
   "outputs": [
    {
     "data": {
      "text/plain": [
       "array([[-1.42456879, -1.73899919, -0.43480148],\n",
       "       [-1.28103541, -1.73899919,  1.19570407],\n",
       "       [-1.3528021 , -1.70082976, -1.71591298],\n",
       "       [-1.13750203, -1.70082976,  1.04041783],\n",
       "       [-0.56336851, -1.66266033, -0.39597992],\n",
       "       [-1.20926872, -1.66266033,  1.00159627],\n",
       "       [-0.27630176, -1.62449091, -1.71591298],\n",
       "       [-1.13750203, -1.62449091,  1.70038436],\n",
       "       [ 1.80493225, -1.58632148, -1.83237767],\n",
       "       [-0.6351352 , -1.58632148,  0.84631002],\n",
       "       [ 2.02023231, -1.58632148, -1.4053405 ],\n",
       "       [-0.27630176, -1.58632148,  1.89449216],\n",
       "       [ 1.37433211, -1.54815205, -1.36651894],\n",
       "       [-1.06573534, -1.54815205,  1.04041783],\n",
       "       [-0.13276838, -1.54815205, -1.44416206],\n",
       "       [-1.20926872, -1.54815205,  1.11806095],\n",
       "       [-0.27630176, -1.50998262, -0.59008772],\n",
       "       [-1.3528021 , -1.50998262,  0.61338066],\n",
       "       [ 0.94373197, -1.43364376, -0.82301709],\n",
       "       [-0.27630176, -1.43364376,  1.8556706 ],\n",
       "       [-0.27630176, -1.39547433, -0.59008772],\n",
       "       [-0.99396865, -1.39547433,  0.88513158],\n",
       "       [ 0.51313183, -1.3573049 , -1.75473454],\n",
       "       [-0.56336851, -1.3573049 ,  0.88513158],\n",
       "       [ 1.08726535, -1.24279661, -1.4053405 ],\n",
       "       [-0.70690189, -1.24279661,  1.23452563],\n",
       "       [ 0.44136514, -1.24279661, -0.7065524 ],\n",
       "       [-0.27630176, -1.24279661,  0.41927286],\n",
       "       [ 0.08253169, -1.20462718, -0.74537397],\n",
       "       [-1.13750203, -1.20462718,  1.42863343],\n",
       "       [ 1.51786549, -1.16645776, -1.7935561 ],\n",
       "       [-1.28103541, -1.16645776,  0.88513158],\n",
       "       [ 1.01549866, -1.05194947, -1.7935561 ],\n",
       "       [-1.49633548, -1.05194947,  1.62274124],\n",
       "       [ 0.7284319 , -1.05194947, -1.4053405 ],\n",
       "       [-1.28103541, -1.05194947,  1.19570407],\n",
       "       [ 0.22606507, -1.01378004, -1.28887582],\n",
       "       [-0.6351352 , -1.01378004,  0.88513158],\n",
       "       [-0.20453507, -0.89927175, -0.93948177],\n",
       "       [-1.3528021 , -0.89927175,  0.96277471],\n",
       "       [ 1.87669894, -0.86110232, -0.59008772],\n",
       "       [-1.06573534, -0.86110232,  1.62274124],\n",
       "       [ 0.65666521, -0.82293289, -0.55126616],\n",
       "       [-0.56336851, -0.82293289,  0.41927286],\n",
       "       [ 0.7284319 , -0.82293289, -0.86183865],\n",
       "       [-1.06573534, -0.82293289,  0.5745591 ],\n",
       "       [ 0.80019859, -0.78476346,  0.18634349],\n",
       "       [-0.85043527, -0.78476346, -0.12422899],\n",
       "       [-0.70690189, -0.78476346, -0.3183368 ],\n",
       "       [-0.56336851, -0.78476346, -0.3183368 ],\n",
       "       [ 0.7284319 , -0.70842461,  0.06987881],\n",
       "       [-0.41983513, -0.70842461,  0.38045129],\n",
       "       [-0.56336851, -0.67025518,  0.14752193],\n",
       "       [ 1.4460988 , -0.67025518,  0.38045129],\n",
       "       [ 0.80019859, -0.67025518, -0.20187212],\n",
       "       [ 0.58489852, -0.67025518, -0.35715836],\n",
       "       [ 0.87196528, -0.63208575, -0.00776431],\n",
       "       [ 2.16376569, -0.63208575, -0.16305055],\n",
       "       [-0.85043527, -0.55574689,  0.03105725],\n",
       "       [ 1.01549866, -0.55574689, -0.16305055],\n",
       "       [ 2.23553238, -0.55574689,  0.22516505],\n",
       "       [-1.42456879, -0.55574689,  0.18634349],\n",
       "       [ 2.02023231, -0.51757746,  0.06987881],\n",
       "       [ 1.08726535, -0.51757746,  0.34162973],\n",
       "       [ 1.73316556, -0.47940803,  0.03105725],\n",
       "       [-1.49633548, -0.47940803,  0.34162973],\n",
       "       [ 0.29783176, -0.47940803, -0.00776431],\n",
       "       [ 2.091999  , -0.47940803, -0.08540743],\n",
       "       [-1.42456879, -0.47940803,  0.34162973],\n",
       "       [-0.49160182, -0.47940803, -0.12422899],\n",
       "       [ 2.23553238, -0.4412386 ,  0.18634349],\n",
       "       [ 0.58489852, -0.4412386 , -0.3183368 ],\n",
       "       [ 1.51786549, -0.40306917, -0.04658587],\n",
       "       [ 1.51786549, -0.40306917,  0.22516505],\n",
       "       [ 1.4460988 , -0.25039146, -0.12422899],\n",
       "       [-0.92220196, -0.25039146,  0.14752193],\n",
       "       [ 0.44136514, -0.25039146,  0.10870037],\n",
       "       [ 0.08253169, -0.25039146, -0.08540743],\n",
       "       [-1.13750203, -0.25039146,  0.06987881],\n",
       "       [ 0.7284319 , -0.25039146, -0.3183368 ],\n",
       "       [ 1.30256542, -0.25039146,  0.03105725],\n",
       "       [-0.06100169, -0.25039146,  0.18634349],\n",
       "       [ 2.02023231, -0.25039146, -0.35715836],\n",
       "       [ 0.51313183, -0.25039146, -0.24069368],\n",
       "       [-1.28103541, -0.25039146,  0.26398661],\n",
       "       [ 0.65666521, -0.25039146, -0.16305055],\n",
       "       [ 1.15903204, -0.13588317,  0.30280817],\n",
       "       [-1.20926872, -0.13588317,  0.18634349],\n",
       "       [-0.34806844, -0.09771374,  0.38045129],\n",
       "       [ 0.80019859, -0.09771374, -0.16305055],\n",
       "       [ 2.091999  , -0.05954431,  0.18634349],\n",
       "       [-1.49633548, -0.05954431, -0.35715836],\n",
       "       [ 0.65666521, -0.02137488, -0.04658587],\n",
       "       [ 0.08253169, -0.02137488, -0.39597992],\n",
       "       [-0.49160182, -0.02137488, -0.3183368 ],\n",
       "       [-1.06573534, -0.02137488,  0.06987881],\n",
       "       [ 0.58489852, -0.02137488, -0.12422899],\n",
       "       [-0.85043527, -0.02137488, -0.00776431],\n",
       "       [ 0.65666521,  0.01679455, -0.3183368 ],\n",
       "       [-1.3528021 ,  0.01679455, -0.04658587],\n",
       "       [-1.13750203,  0.05496398, -0.35715836],\n",
       "       [ 0.7284319 ,  0.05496398, -0.08540743],\n",
       "       [ 2.02023231,  0.05496398,  0.34162973],\n",
       "       [-0.92220196,  0.05496398,  0.18634349],\n",
       "       [ 0.7284319 ,  0.05496398,  0.22516505],\n",
       "       [-1.28103541,  0.05496398, -0.3183368 ],\n",
       "       [ 1.94846562,  0.09313341, -0.00776431],\n",
       "       [ 1.08726535,  0.09313341, -0.16305055],\n",
       "       [ 2.091999  ,  0.09313341, -0.27951524],\n",
       "       [ 1.94846562,  0.09313341, -0.08540743],\n",
       "       [ 1.87669894,  0.09313341,  0.06987881],\n",
       "       [-1.42456879,  0.09313341,  0.14752193],\n",
       "       [-0.06100169,  0.13130284, -0.3183368 ],\n",
       "       [-1.42456879,  0.13130284, -0.16305055],\n",
       "       [-1.49633548,  0.16947227, -0.08540743],\n",
       "       [-1.42456879,  0.16947227, -0.00776431],\n",
       "       [ 1.73316556,  0.16947227, -0.27951524],\n",
       "       [ 0.7284319 ,  0.16947227,  0.34162973],\n",
       "       [ 0.87196528,  0.24581112, -0.27951524],\n",
       "       [ 0.80019859,  0.24581112,  0.26398661],\n",
       "       [-0.85043527,  0.24581112,  0.22516505],\n",
       "       [-0.06100169,  0.24581112, -0.39597992],\n",
       "       [ 0.08253169,  0.32214998,  0.30280817],\n",
       "       [ 0.010765  ,  0.32214998,  1.58391968],\n",
       "       [-1.13750203,  0.36031941, -0.82301709],\n",
       "       [-0.56336851,  0.36031941,  1.04041783],\n",
       "       [ 0.29783176,  0.39848884, -0.59008772],\n",
       "       [ 0.08253169,  0.39848884,  1.73920592],\n",
       "       [ 1.4460988 ,  0.39848884, -1.52180518],\n",
       "       [-0.06100169,  0.39848884,  0.96277471],\n",
       "       [ 0.58489852,  0.39848884, -1.5994483 ],\n",
       "       [ 0.010765  ,  0.39848884,  0.96277471],\n",
       "       [-0.99396865,  0.43665827, -0.62890928],\n",
       "       [-0.56336851,  0.43665827,  0.80748846],\n",
       "       [-1.3528021 ,  0.4748277 , -1.75473454],\n",
       "       [-0.70690189,  0.4748277 ,  1.46745499],\n",
       "       [ 0.36959845,  0.4748277 , -1.67709142],\n",
       "       [-0.49160182,  0.4748277 ,  0.88513158],\n",
       "       [-1.42456879,  0.51299713, -1.56062674],\n",
       "       [-0.27630176,  0.51299713,  0.84631002],\n",
       "       [ 1.30256542,  0.55116656, -1.75473454],\n",
       "       [-0.49160182,  0.55116656,  1.6615628 ],\n",
       "       [-0.77866858,  0.58933599, -0.39597992],\n",
       "       [-0.49160182,  0.58933599,  1.42863343],\n",
       "       [-0.99396865,  0.62750542, -1.48298362],\n",
       "       [-0.77866858,  0.62750542,  1.81684904],\n",
       "       [ 0.65666521,  0.62750542, -0.55126616],\n",
       "       [-0.49160182,  0.62750542,  0.92395314],\n",
       "       [-0.34806844,  0.66567484, -1.09476801],\n",
       "       [-0.34806844,  0.66567484,  1.54509812],\n",
       "       [ 0.29783176,  0.66567484, -1.28887582],\n",
       "       [ 0.010765  ,  0.66567484,  1.46745499],\n",
       "       [ 0.36959845,  0.66567484, -1.17241113],\n",
       "       [-0.06100169,  0.66567484,  1.00159627],\n",
       "       [ 0.58489852,  0.66567484, -1.32769738],\n",
       "       [-0.85043527,  0.66567484,  1.50627656],\n",
       "       [-0.13276838,  0.66567484, -1.91002079],\n",
       "       [-0.6351352 ,  0.66567484,  1.07923939],\n",
       "       [-0.34806844,  0.66567484, -1.91002079],\n",
       "       [-0.6351352 ,  0.66567484,  0.88513158],\n",
       "       [ 1.23079873,  0.70384427, -0.59008772],\n",
       "       [-0.70690189,  0.70384427,  1.27334719],\n",
       "       [-1.42456879,  0.78018313, -1.75473454],\n",
       "       [-0.56336851,  0.78018313,  1.6615628 ],\n",
       "       [ 0.80019859,  0.93286085, -0.93948177],\n",
       "       [-0.20453507,  0.93286085,  0.96277471],\n",
       "       [ 0.22606507,  0.97103028, -1.17241113],\n",
       "       [-0.41983513,  0.97103028,  1.73920592],\n",
       "       [-0.20453507,  1.00919971, -0.90066021],\n",
       "       [-0.49160182,  1.00919971,  0.49691598],\n",
       "       [ 0.08253169,  1.00919971, -1.44416206],\n",
       "       [-0.77866858,  1.00919971,  0.96277471],\n",
       "       [-0.20453507,  1.00919971, -1.56062674],\n",
       "       [-0.20453507,  1.00919971,  1.62274124],\n",
       "       [ 0.94373197,  1.04736914, -1.44416206],\n",
       "       [-0.6351352 ,  1.04736914,  1.38981187],\n",
       "       [ 1.37433211,  1.04736914, -1.36651894],\n",
       "       [-0.85043527,  1.04736914,  0.72984534],\n",
       "       [ 1.4460988 ,  1.23821628, -1.4053405 ],\n",
       "       [-0.27630176,  1.23821628,  1.54509812],\n",
       "       [-0.13276838,  1.390894  , -0.7065524 ],\n",
       "       [-0.49160182,  1.390894  ,  1.38981187],\n",
       "       [ 0.51313183,  1.42906343, -1.36651894],\n",
       "       [-0.70690189,  1.42906343,  1.46745499],\n",
       "       [ 0.15429838,  1.46723286, -0.43480148],\n",
       "       [-0.6351352 ,  1.46723286,  1.81684904],\n",
       "       [ 1.08726535,  1.54357172, -1.01712489],\n",
       "       [-0.77866858,  1.54357172,  0.69102378],\n",
       "       [ 0.15429838,  1.61991057, -1.28887582],\n",
       "       [-0.20453507,  1.61991057,  1.35099031],\n",
       "       [-0.34806844,  1.61991057, -1.05594645],\n",
       "       [-0.49160182,  1.61991057,  0.72984534],\n",
       "       [-0.41983513,  2.00160487, -1.63826986],\n",
       "       [-0.06100169,  2.00160487,  1.58391968],\n",
       "       [ 0.58489852,  2.26879087, -1.32769738],\n",
       "       [-0.27630176,  2.26879087,  1.11806095],\n",
       "       [ 0.44136514,  2.49780745, -0.86183865],\n",
       "       [-0.49160182,  2.49780745,  0.92395314],\n",
       "       [-0.49160182,  2.91767117, -1.25005425],\n",
       "       [-0.6351352 ,  2.91767117,  1.27334719]])"
      ]
     },
     "execution_count": 93,
     "metadata": {},
     "output_type": "execute_result"
    }
   ],
   "source": [
    "x_scaled"
   ]
  },
  {
   "cell_type": "code",
   "execution_count": 94,
   "id": "b44d7b43",
   "metadata": {},
   "outputs": [],
   "source": [
    "import warnings\n",
    "warnings.filterwarnings('ignore')"
   ]
  },
  {
   "cell_type": "code",
   "execution_count": 95,
   "id": "634d7afd",
   "metadata": {},
   "outputs": [],
   "source": [
    "kmeans_model=KMeans(n_clusters=5)"
   ]
  },
  {
   "cell_type": "code",
   "execution_count": 96,
   "id": "2d20f194",
   "metadata": {},
   "outputs": [
    {
     "data": {
      "text/html": [
       "<style>#sk-container-id-3 {color: black;background-color: white;}#sk-container-id-3 pre{padding: 0;}#sk-container-id-3 div.sk-toggleable {background-color: white;}#sk-container-id-3 label.sk-toggleable__label {cursor: pointer;display: block;width: 100%;margin-bottom: 0;padding: 0.3em;box-sizing: border-box;text-align: center;}#sk-container-id-3 label.sk-toggleable__label-arrow:before {content: \"▸\";float: left;margin-right: 0.25em;color: #696969;}#sk-container-id-3 label.sk-toggleable__label-arrow:hover:before {color: black;}#sk-container-id-3 div.sk-estimator:hover label.sk-toggleable__label-arrow:before {color: black;}#sk-container-id-3 div.sk-toggleable__content {max-height: 0;max-width: 0;overflow: hidden;text-align: left;background-color: #f0f8ff;}#sk-container-id-3 div.sk-toggleable__content pre {margin: 0.2em;color: black;border-radius: 0.25em;background-color: #f0f8ff;}#sk-container-id-3 input.sk-toggleable__control:checked~div.sk-toggleable__content {max-height: 200px;max-width: 100%;overflow: auto;}#sk-container-id-3 input.sk-toggleable__control:checked~label.sk-toggleable__label-arrow:before {content: \"▾\";}#sk-container-id-3 div.sk-estimator input.sk-toggleable__control:checked~label.sk-toggleable__label {background-color: #d4ebff;}#sk-container-id-3 div.sk-label input.sk-toggleable__control:checked~label.sk-toggleable__label {background-color: #d4ebff;}#sk-container-id-3 input.sk-hidden--visually {border: 0;clip: rect(1px 1px 1px 1px);clip: rect(1px, 1px, 1px, 1px);height: 1px;margin: -1px;overflow: hidden;padding: 0;position: absolute;width: 1px;}#sk-container-id-3 div.sk-estimator {font-family: monospace;background-color: #f0f8ff;border: 1px dotted black;border-radius: 0.25em;box-sizing: border-box;margin-bottom: 0.5em;}#sk-container-id-3 div.sk-estimator:hover {background-color: #d4ebff;}#sk-container-id-3 div.sk-parallel-item::after {content: \"\";width: 100%;border-bottom: 1px solid gray;flex-grow: 1;}#sk-container-id-3 div.sk-label:hover label.sk-toggleable__label {background-color: #d4ebff;}#sk-container-id-3 div.sk-serial::before {content: \"\";position: absolute;border-left: 1px solid gray;box-sizing: border-box;top: 0;bottom: 0;left: 50%;z-index: 0;}#sk-container-id-3 div.sk-serial {display: flex;flex-direction: column;align-items: center;background-color: white;padding-right: 0.2em;padding-left: 0.2em;position: relative;}#sk-container-id-3 div.sk-item {position: relative;z-index: 1;}#sk-container-id-3 div.sk-parallel {display: flex;align-items: stretch;justify-content: center;background-color: white;position: relative;}#sk-container-id-3 div.sk-item::before, #sk-container-id-3 div.sk-parallel-item::before {content: \"\";position: absolute;border-left: 1px solid gray;box-sizing: border-box;top: 0;bottom: 0;left: 50%;z-index: -1;}#sk-container-id-3 div.sk-parallel-item {display: flex;flex-direction: column;z-index: 1;position: relative;background-color: white;}#sk-container-id-3 div.sk-parallel-item:first-child::after {align-self: flex-end;width: 50%;}#sk-container-id-3 div.sk-parallel-item:last-child::after {align-self: flex-start;width: 50%;}#sk-container-id-3 div.sk-parallel-item:only-child::after {width: 0;}#sk-container-id-3 div.sk-dashed-wrapped {border: 1px dashed gray;margin: 0 0.4em 0.5em 0.4em;box-sizing: border-box;padding-bottom: 0.4em;background-color: white;}#sk-container-id-3 div.sk-label label {font-family: monospace;font-weight: bold;display: inline-block;line-height: 1.2em;}#sk-container-id-3 div.sk-label-container {text-align: center;}#sk-container-id-3 div.sk-container {/* jupyter's `normalize.less` sets `[hidden] { display: none; }` but bootstrap.min.css set `[hidden] { display: none !important; }` so we also need the `!important` here to be able to override the default hidden behavior on the sphinx rendered scikit-learn.org. See: https://github.com/scikit-learn/scikit-learn/issues/21755 */display: inline-block !important;position: relative;}#sk-container-id-3 div.sk-text-repr-fallback {display: none;}</style><div id=\"sk-container-id-3\" class=\"sk-top-container\"><div class=\"sk-text-repr-fallback\"><pre>KMeans(n_clusters=5)</pre><b>In a Jupyter environment, please rerun this cell to show the HTML representation or trust the notebook. <br />On GitHub, the HTML representation is unable to render, please try loading this page with nbviewer.org.</b></div><div class=\"sk-container\" hidden><div class=\"sk-item\"><div class=\"sk-estimator sk-toggleable\"><input class=\"sk-toggleable__control sk-hidden--visually\" id=\"sk-estimator-id-3\" type=\"checkbox\" checked><label for=\"sk-estimator-id-3\" class=\"sk-toggleable__label sk-toggleable__label-arrow\">KMeans</label><div class=\"sk-toggleable__content\"><pre>KMeans(n_clusters=5)</pre></div></div></div></div></div>"
      ],
      "text/plain": [
       "KMeans(n_clusters=5)"
      ]
     },
     "execution_count": 96,
     "metadata": {},
     "output_type": "execute_result"
    }
   ],
   "source": [
    "kmeans_model.fit(x_scaled)"
   ]
  },
  {
   "cell_type": "code",
   "execution_count": 97,
   "id": "ce470895",
   "metadata": {},
   "outputs": [
    {
     "data": {
      "text/plain": [
       "array([3, 3, 1, 3, 3, 3, 1, 3, 1, 3, 1, 3, 1, 3, 1, 3, 1, 3, 1, 3, 1, 3,\n",
       "       1, 3, 1, 3, 1, 3, 1, 3, 1, 3, 1, 3, 1, 3, 1, 3, 1, 3, 2, 3, 1, 3,\n",
       "       1, 3, 2, 3, 3, 3, 2, 3, 3, 2, 2, 2, 2, 2, 3, 2, 2, 3, 2, 2, 2, 3,\n",
       "       2, 2, 3, 3, 2, 2, 2, 2, 2, 3, 2, 2, 3, 2, 2, 3, 2, 2, 3, 2, 2, 3,\n",
       "       3, 2, 2, 3, 2, 2, 3, 3, 2, 3, 2, 3, 3, 2, 2, 3, 2, 3, 2, 2, 2, 2,\n",
       "       2, 3, 4, 3, 3, 3, 2, 2, 2, 2, 3, 4, 0, 0, 4, 0, 4, 0, 4, 0, 4, 0,\n",
       "       4, 0, 4, 0, 4, 0, 4, 0, 4, 0, 4, 0, 4, 0, 4, 0, 4, 0, 4, 0, 4, 0,\n",
       "       4, 0, 4, 0, 4, 0, 2, 0, 4, 0, 4, 0, 4, 0, 4, 0, 4, 0, 4, 0, 4, 0,\n",
       "       4, 0, 4, 0, 4, 0, 4, 0, 4, 0, 4, 0, 4, 0, 4, 0, 4, 0, 4, 0, 4, 0,\n",
       "       4, 0])"
      ]
     },
     "execution_count": 97,
     "metadata": {},
     "output_type": "execute_result"
    }
   ],
   "source": [
    "kmeans_model.labels_"
   ]
  },
  {
   "cell_type": "code",
   "execution_count": 99,
   "id": "12e458ac",
   "metadata": {},
   "outputs": [],
   "source": [
    "x['Label']=kmeans_model.labels_"
   ]
  },
  {
   "cell_type": "code",
   "execution_count": 100,
   "id": "b8604485",
   "metadata": {},
   "outputs": [
    {
     "data": {
      "text/html": [
       "<div>\n",
       "<style scoped>\n",
       "    .dataframe tbody tr th:only-of-type {\n",
       "        vertical-align: middle;\n",
       "    }\n",
       "\n",
       "    .dataframe tbody tr th {\n",
       "        vertical-align: top;\n",
       "    }\n",
       "\n",
       "    .dataframe thead th {\n",
       "        text-align: right;\n",
       "    }\n",
       "</style>\n",
       "<table border=\"1\" class=\"dataframe\">\n",
       "  <thead>\n",
       "    <tr style=\"text-align: right;\">\n",
       "      <th></th>\n",
       "      <th>Age</th>\n",
       "      <th>Annual Income (k$)</th>\n",
       "      <th>Spending Score (1-100)</th>\n",
       "      <th>Label</th>\n",
       "    </tr>\n",
       "  </thead>\n",
       "  <tbody>\n",
       "    <tr>\n",
       "      <th>0</th>\n",
       "      <td>19</td>\n",
       "      <td>15</td>\n",
       "      <td>39</td>\n",
       "      <td>3</td>\n",
       "    </tr>\n",
       "    <tr>\n",
       "      <th>1</th>\n",
       "      <td>21</td>\n",
       "      <td>15</td>\n",
       "      <td>81</td>\n",
       "      <td>3</td>\n",
       "    </tr>\n",
       "    <tr>\n",
       "      <th>2</th>\n",
       "      <td>20</td>\n",
       "      <td>16</td>\n",
       "      <td>6</td>\n",
       "      <td>1</td>\n",
       "    </tr>\n",
       "    <tr>\n",
       "      <th>3</th>\n",
       "      <td>23</td>\n",
       "      <td>16</td>\n",
       "      <td>77</td>\n",
       "      <td>3</td>\n",
       "    </tr>\n",
       "    <tr>\n",
       "      <th>4</th>\n",
       "      <td>31</td>\n",
       "      <td>17</td>\n",
       "      <td>40</td>\n",
       "      <td>3</td>\n",
       "    </tr>\n",
       "  </tbody>\n",
       "</table>\n",
       "</div>"
      ],
      "text/plain": [
       "   Age  Annual Income (k$)  Spending Score (1-100)  Label\n",
       "0   19                  15                      39      3\n",
       "1   21                  15                      81      3\n",
       "2   20                  16                       6      1\n",
       "3   23                  16                      77      3\n",
       "4   31                  17                      40      3"
      ]
     },
     "execution_count": 100,
     "metadata": {},
     "output_type": "execute_result"
    }
   ],
   "source": [
    "x.head()"
   ]
  },
  {
   "cell_type": "code",
   "execution_count": 103,
   "id": "b36d8346",
   "metadata": {},
   "outputs": [
    {
     "data": {
      "text/plain": [
       "<AxesSubplot:xlabel='Annual Income (k$)', ylabel='Spending Score (1-100)'>"
      ]
     },
     "execution_count": 103,
     "metadata": {},
     "output_type": "execute_result"
    },
    {
     "data": {
      "image/png": "[encoded data removed]",
      "text/plain": [
       "<Figure size 864x432 with 1 Axes>"
      ]
     },
     "metadata": {},
     "output_type": "display_data"
    }
   ],
   "source": [
    "plt.figure(figsize=(12,6))\n",
    "sns.scatterplot(data=x, x=\"Annual Income (k$)\", y=\"Spending Score (1-100)\", hue=\"Label\", palette='viridis')"
   ]
  },
  {
   "cell_type": "code",
   "execution_count": 104,
   "id": "2118df72",
   "metadata": {},
   "outputs": [
    {
     "data": {
      "text/plain": [
       "<AxesSubplot:xlabel='Label', ylabel='Annual Income (k$)'>"
      ]
     },
     "execution_count": 104,
     "metadata": {},
     "output_type": "execute_result"
    },
    {
     "data": {
      "image/png": "[encoded data removed]",
      "text/plain": [
       "<Figure size 432x288 with 1 Axes>"
      ]
     },
     "metadata": {},
     "output_type": "display_data"
    }
   ],
   "source": [
    "sns.boxplot(x='Label', y='Annual Income (k$)', data=df, palette=\"nipy_spectral_r\")"
   ]
  },
  {
   "cell_type": "code",
   "execution_count": 106,
   "id": "c8f18ee4",
   "metadata": {},
   "outputs": [],
   "source": [
    "df=df.drop('Label',axis=1)"
   ]
  },
  {
   "cell_type": "code",
   "execution_count": 107,
   "id": "48280d1c",
   "metadata": {},
   "outputs": [
    {
     "data": {
      "text/html": [
       "<div>\n",
       "<style scoped>\n",
       "    .dataframe tbody tr th:only-of-type {\n",
       "        vertical-align: middle;\n",
       "    }\n",
       "\n",
       "    .dataframe tbody tr th {\n",
       "        vertical-align: top;\n",
       "    }\n",
       "\n",
       "    .dataframe thead th {\n",
       "        text-align: right;\n",
       "    }\n",
       "</style>\n",
       "<table border=\"1\" class=\"dataframe\">\n",
       "  <thead>\n",
       "    <tr style=\"text-align: right;\">\n",
       "      <th></th>\n",
       "      <th>Gender</th>\n",
       "      <th>Age</th>\n",
       "      <th>Annual Income (k$)</th>\n",
       "      <th>Spending Score (1-100)</th>\n",
       "    </tr>\n",
       "  </thead>\n",
       "  <tbody>\n",
       "    <tr>\n",
       "      <th>0</th>\n",
       "      <td>Male</td>\n",
       "      <td>19</td>\n",
       "      <td>15</td>\n",
       "      <td>39</td>\n",
       "    </tr>\n",
       "    <tr>\n",
       "      <th>1</th>\n",
       "      <td>Male</td>\n",
       "      <td>21</td>\n",
       "      <td>15</td>\n",
       "      <td>81</td>\n",
       "    </tr>\n",
       "    <tr>\n",
       "      <th>2</th>\n",
       "      <td>Female</td>\n",
       "      <td>20</td>\n",
       "      <td>16</td>\n",
       "      <td>6</td>\n",
       "    </tr>\n",
       "    <tr>\n",
       "      <th>3</th>\n",
       "      <td>Female</td>\n",
       "      <td>23</td>\n",
       "      <td>16</td>\n",
       "      <td>77</td>\n",
       "    </tr>\n",
       "    <tr>\n",
       "      <th>4</th>\n",
       "      <td>Female</td>\n",
       "      <td>31</td>\n",
       "      <td>17</td>\n",
       "      <td>40</td>\n",
       "    </tr>\n",
       "  </tbody>\n",
       "</table>\n",
       "</div>"
      ],
      "text/plain": [
       "   Gender  Age  Annual Income (k$)  Spending Score (1-100)\n",
       "0    Male   19                  15                      39\n",
       "1    Male   21                  15                      81\n",
       "2  Female   20                  16                       6\n",
       "3  Female   23                  16                      77\n",
       "4  Female   31                  17                      40"
      ]
     },
     "execution_count": 107,
     "metadata": {},
     "output_type": "execute_result"
    }
   ],
   "source": [
    "df.head()"
   ]
  },
  {
   "cell_type": "code",
   "execution_count": 108,
   "id": "b30b92e7",
   "metadata": {},
   "outputs": [],
   "source": [
    "df['Label']=kmeans_model.labels_"
   ]
  },
  {
   "cell_type": "code",
   "execution_count": 109,
   "id": "7840e72c",
   "metadata": {},
   "outputs": [
    {
     "data": {
      "text/html": [
       "<div>\n",
       "<style scoped>\n",
       "    .dataframe tbody tr th:only-of-type {\n",
       "        vertical-align: middle;\n",
       "    }\n",
       "\n",
       "    .dataframe tbody tr th {\n",
       "        vertical-align: top;\n",
       "    }\n",
       "\n",
       "    .dataframe thead th {\n",
       "        text-align: right;\n",
       "    }\n",
       "</style>\n",
       "<table border=\"1\" class=\"dataframe\">\n",
       "  <thead>\n",
       "    <tr style=\"text-align: right;\">\n",
       "      <th></th>\n",
       "      <th>Gender</th>\n",
       "      <th>Age</th>\n",
       "      <th>Annual Income (k$)</th>\n",
       "      <th>Spending Score (1-100)</th>\n",
       "      <th>Label</th>\n",
       "    </tr>\n",
       "  </thead>\n",
       "  <tbody>\n",
       "    <tr>\n",
       "      <th>0</th>\n",
       "      <td>Male</td>\n",
       "      <td>19</td>\n",
       "      <td>15</td>\n",
       "      <td>39</td>\n",
       "      <td>3</td>\n",
       "    </tr>\n",
       "    <tr>\n",
       "      <th>1</th>\n",
       "      <td>Male</td>\n",
       "      <td>21</td>\n",
       "      <td>15</td>\n",
       "      <td>81</td>\n",
       "      <td>3</td>\n",
       "    </tr>\n",
       "    <tr>\n",
       "      <th>2</th>\n",
       "      <td>Female</td>\n",
       "      <td>20</td>\n",
       "      <td>16</td>\n",
       "      <td>6</td>\n",
       "      <td>1</td>\n",
       "    </tr>\n",
       "    <tr>\n",
       "      <th>3</th>\n",
       "      <td>Female</td>\n",
       "      <td>23</td>\n",
       "      <td>16</td>\n",
       "      <td>77</td>\n",
       "      <td>3</td>\n",
       "    </tr>\n",
       "    <tr>\n",
       "      <th>4</th>\n",
       "      <td>Female</td>\n",
       "      <td>31</td>\n",
       "      <td>17</td>\n",
       "      <td>40</td>\n",
       "      <td>3</td>\n",
       "    </tr>\n",
       "  </tbody>\n",
       "</table>\n",
       "</div>"
      ],
      "text/plain": [
       "   Gender  Age  Annual Income (k$)  Spending Score (1-100)  Label\n",
       "0    Male   19                  15                      39      3\n",
       "1    Male   21                  15                      81      3\n",
       "2  Female   20                  16                       6      1\n",
       "3  Female   23                  16                      77      3\n",
       "4  Female   31                  17                      40      3"
      ]
     },
     "execution_count": 109,
     "metadata": {},
     "output_type": "execute_result"
    }
   ],
   "source": [
    "df.head()"
   ]
  },
  {
   "cell_type": "code",
   "execution_count": 110,
   "id": "e49b51ae",
   "metadata": {},
   "outputs": [],
   "source": [
    "df1=pd.read_csv('Mall_Customers.csv')"
   ]
  },
  {
   "cell_type": "code",
   "execution_count": 112,
   "id": "3dad9508",
   "metadata": {},
   "outputs": [],
   "source": [
    "df['CustomerID']=df1['CustomerID']"
   ]
  },
  {
   "cell_type": "code",
   "execution_count": 113,
   "id": "c59627b5",
   "metadata": {},
   "outputs": [
    {
     "data": {
      "text/html": [
       "<div>\n",
       "<style scoped>\n",
       "    .dataframe tbody tr th:only-of-type {\n",
       "        vertical-align: middle;\n",
       "    }\n",
       "\n",
       "    .dataframe tbody tr th {\n",
       "        vertical-align: top;\n",
       "    }\n",
       "\n",
       "    .dataframe thead th {\n",
       "        text-align: right;\n",
       "    }\n",
       "</style>\n",
       "<table border=\"1\" class=\"dataframe\">\n",
       "  <thead>\n",
       "    <tr style=\"text-align: right;\">\n",
       "      <th></th>\n",
       "      <th>Gender</th>\n",
       "      <th>Age</th>\n",
       "      <th>Annual Income (k$)</th>\n",
       "      <th>Spending Score (1-100)</th>\n",
       "      <th>Label</th>\n",
       "      <th>CustomerID</th>\n",
       "    </tr>\n",
       "  </thead>\n",
       "  <tbody>\n",
       "    <tr>\n",
       "      <th>0</th>\n",
       "      <td>Male</td>\n",
       "      <td>19</td>\n",
       "      <td>15</td>\n",
       "      <td>39</td>\n",
       "      <td>3</td>\n",
       "      <td>1</td>\n",
       "    </tr>\n",
       "    <tr>\n",
       "      <th>1</th>\n",
       "      <td>Male</td>\n",
       "      <td>21</td>\n",
       "      <td>15</td>\n",
       "      <td>81</td>\n",
       "      <td>3</td>\n",
       "      <td>2</td>\n",
       "    </tr>\n",
       "    <tr>\n",
       "      <th>2</th>\n",
       "      <td>Female</td>\n",
       "      <td>20</td>\n",
       "      <td>16</td>\n",
       "      <td>6</td>\n",
       "      <td>1</td>\n",
       "      <td>3</td>\n",
       "    </tr>\n",
       "    <tr>\n",
       "      <th>3</th>\n",
       "      <td>Female</td>\n",
       "      <td>23</td>\n",
       "      <td>16</td>\n",
       "      <td>77</td>\n",
       "      <td>3</td>\n",
       "      <td>4</td>\n",
       "    </tr>\n",
       "    <tr>\n",
       "      <th>4</th>\n",
       "      <td>Female</td>\n",
       "      <td>31</td>\n",
       "      <td>17</td>\n",
       "      <td>40</td>\n",
       "      <td>3</td>\n",
       "      <td>5</td>\n",
       "    </tr>\n",
       "  </tbody>\n",
       "</table>\n",
       "</div>"
      ],
      "text/plain": [
       "   Gender  Age  Annual Income (k$)  Spending Score (1-100)  Label  CustomerID\n",
       "0    Male   19                  15                      39      3           1\n",
       "1    Male   21                  15                      81      3           2\n",
       "2  Female   20                  16                       6      1           3\n",
       "3  Female   23                  16                      77      3           4\n",
       "4  Female   31                  17                      40      3           5"
      ]
     },
     "execution_count": 113,
     "metadata": {},
     "output_type": "execute_result"
    }
   ],
   "source": [
    "df.head()"
   ]
  },
  {
   "cell_type": "code",
   "execution_count": 114,
   "id": "2c26f019",
   "metadata": {},
   "outputs": [
    {
     "name": "stdout",
     "output_type": "stream",
     "text": [
      "The number of customers in 1st group =  40\n",
      "The Customer Id are -  [123 124 126 128 130 132 134 136 138 140 142 144 146 148 150 152 154 156\n",
      " 158 160 162 164 166 168 170 172 174 176 178 180 182 184 186 188 190 192\n",
      " 194 196 198 200]\n",
      "==========================================================================================\n",
      "\n",
      "The number of customers in 2st group =  20\n",
      "The Customer Id are -  [ 3  7  9 11 13 15 17 19 21 23 25 27 29 31 33 35 37 39 43 45]\n",
      "==========================================================================================\n",
      "\n",
      "The number of customer in 3rd group =  47\n",
      "The Customer Id are- [ 41  47  51  54  55  56  57  58  60  61  63  64  65  67  68  71  72  73\n",
      "  74  75  77  78  80  81  83  84  86  87  90  91  93  94  97  99 102 103\n",
      " 105 107 108 109 110 111 117 118 119 120 161]\n",
      "=========================================================================================\n",
      "\n",
      "The number of customer in 4th group =  54\n",
      "The customer Id are-  [  1   2   4   5   6   8  10  12  14  16  18  20  22  24  26  28  30  32\n",
      "  34  36  38  40  42  44  46  48  49  50  52  53  59  62  66  69  70  76\n",
      "  79  82  85  88  89  92  95  96  98 100 101 104 106 112 114 115 116 121]\n",
      "=================================================================================================\n",
      "\n",
      "The number of customer in 5th group =  39\n",
      "The customer Id are- [113 122 125 127 129 131 133 135 137 139 141 143 145 147 149 151 153 155\n",
      " 157 159 163 165 167 169 171 173 175 177 179 181 183 185 187 189 191 193\n",
      " 195 197 199]\n",
      "===========================================================================================================================\n",
      "\n"
     ]
    }
   ],
   "source": [
    "cust1=df[df.Label==0]\n",
    "print(\"The number of customers in 1st group = \", len(cust1))\n",
    "print(\"The Customer Id are - \", cust1.CustomerID.values)\n",
    "print(\"==========================================================================================\\n\")\n",
    "cust2=df[df.Label==1]\n",
    "print(\"The number of customers in 2st group = \", len(cust2))\n",
    "print(\"The Customer Id are - \", cust2.CustomerID.values)\n",
    "print(\"==========================================================================================\\n\")\n",
    "cust3= df[df.Label==2]\n",
    "print(\"The number of customer in 3rd group = \",len(cust3))\n",
    "print(\"The Customer Id are-\",cust3.CustomerID.values)\n",
    "print(\"=========================================================================================\\n\")\n",
    "cust4 = df[df.Label==3]\n",
    "print(\"The number of customer in 4th group = \",len(cust4))\n",
    "print(\"The customer Id are- \",cust4.CustomerID.values)\n",
    "print(\"=================================================================================================\\n\")\n",
    "cust5 = df[df.Label==4]\n",
    "print(\"The number of customer in 5th group = \",len(cust5))\n",
    "print(\"The customer Id are-\",cust5.CustomerID.values)\n",
    "print(\"===========================================================================================================================\\n\")"
   ]
  },
  {
   "cell_type": "code",
   "execution_count": null,
   "id": "29e3b7b1",
   "metadata": {},
   "outputs": [],
   "source": []
  }
 ],
 "metadata": {
  "kernelspec": {
   "display_name": "Python 3",
   "language": "python",
   "name": "python3"
  },
  "language_info": {
   "codemirror_mode": {
    "name": "ipython",
    "version": 3
   },
   "file_extension": ".py",
   "mimetype": "text/x-python",
   "name": "python",
   "nbconvert_exporter": "python",
   "pygments_lexer": "ipython3",
   "version": "3.8.8"
  }
 },
 "nbformat": 4,
 "nbformat_minor": 5
}
